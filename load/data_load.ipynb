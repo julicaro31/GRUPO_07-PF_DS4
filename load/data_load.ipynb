{
 "cells": [
  {
   "cell_type": "markdown",
   "metadata": {},
   "source": [
    "# Data Load to AWS MySQL Data Base"
   ]
  },
  {
   "cell_type": "code",
   "execution_count": 1,
   "metadata": {},
   "outputs": [],
   "source": [
    "import os"
   ]
  },
  {
   "cell_type": "code",
   "execution_count": 2,
   "metadata": {},
   "outputs": [],
   "source": [
    "from functions.create_database import create_database\n",
    "from functions.create_table import create_table\n",
    "from functions.load_data import load_data\n",
    "from functions.add_foreign_key import add_fk"
   ]
  },
  {
   "cell_type": "code",
   "execution_count": 3,
   "metadata": {},
   "outputs": [],
   "source": [
    "from private.my_aws_endpoint import my_aws_endpoint"
   ]
  },
  {
   "cell_type": "code",
   "execution_count": 4,
   "metadata": {},
   "outputs": [
    {
     "name": "stdout",
     "output_type": "stream",
     "text": [
      "Database is created\n"
     ]
    }
   ],
   "source": [
    "create_database('housing_market',host=my_aws_endpoint,user='admin')"
   ]
  },
  {
   "cell_type": "markdown",
   "metadata": {},
   "source": [
    "### City"
   ]
  },
  {
   "cell_type": "code",
   "execution_count": 5,
   "metadata": {},
   "outputs": [],
   "source": [
    "variables_city = 'IdCity VARCHAR(255) NOT NULL,City VARCHAR(255) NOT NULL,County VARCHAR(255) NOT NULL, State VARCHAR(255) NOT NULL,PRIMARY KEY(IdCity)'"
   ]
  },
  {
   "cell_type": "code",
   "execution_count": 6,
   "metadata": {},
   "outputs": [
    {
     "name": "stdout",
     "output_type": "stream",
     "text": [
      "Conecting to database:  ('housing_market',)\n",
      "Creating table....\n",
      "Table is created\n"
     ]
    }
   ],
   "source": [
    "create_table('housing_market','city',variables_city,host=my_aws_endpoint,user='admin')"
   ]
  },
  {
   "cell_type": "code",
   "execution_count": 3,
   "metadata": {},
   "outputs": [
    {
     "name": "stdout",
     "output_type": "stream",
     "text": [
      "Conecting to database:  ('housing_market',)\n",
      "Loading data...\n"
     ]
    }
   ],
   "source": [
    "load_data(os.path.join(os.getcwd(),'..','_clean_data','cities.csv'),'housing_market','city',host=my_aws_endpoint,user='admin')\n"
   ]
  },
  {
   "cell_type": "code",
   "execution_count": 6,
   "metadata": {},
   "outputs": [
    {
     "name": "stdout",
     "output_type": "stream",
     "text": [
      "Conecting to database:  ('housing_market',)\n",
      "ALTER TABLE city ADD CONSTRAINT foreign_state_code_city FOREIGN KEY (State) REFERENCES state_code(State);\n"
     ]
    }
   ],
   "source": [
    "add_fk('State','housing_market','city','state_code','foreign_state_code_city',host=my_aws_endpoint,user='admin')\n"
   ]
  },
  {
   "cell_type": "markdown",
   "metadata": {},
   "source": [
    "### States Id"
   ]
  },
  {
   "cell_type": "code",
   "execution_count": 7,
   "metadata": {},
   "outputs": [],
   "source": [
    "variables = 'State VARCHAR(25) NOT NULL,StateName VARCHAR(255) NOT NULL,PRIMARY KEY(State)'"
   ]
  },
  {
   "cell_type": "code",
   "execution_count": 9,
   "metadata": {},
   "outputs": [
    {
     "name": "stdout",
     "output_type": "stream",
     "text": [
      "Conecting to database:  ('housing_market',)\n",
      "Creating table....\n",
      "Table is created\n"
     ]
    }
   ],
   "source": [
    "create_table('housing_market','state_code',variables,host=my_aws_endpoint,user='admin')"
   ]
  },
  {
   "cell_type": "code",
   "execution_count": 10,
   "metadata": {},
   "outputs": [
    {
     "name": "stdout",
     "output_type": "stream",
     "text": [
      "Conecting to database:  ('housing_market',)\n",
      "Loading data...\n"
     ]
    }
   ],
   "source": [
    "load_data(os.path.join(os.getcwd(),'..','_clean_data','states_id.csv'),'housing_market','state_code',host=my_aws_endpoint,user='admin')\n"
   ]
  },
  {
   "cell_type": "markdown",
   "metadata": {},
   "source": [
    "### Listing Price"
   ]
  },
  {
   "cell_type": "code",
   "execution_count": 12,
   "metadata": {},
   "outputs": [],
   "source": [
    "variables_listing_prices = 'IdCity VARCHAR(255) NOT NULL,Date DATE NOT NULL,MedianListingPrice_1Bedroom DECIMAL(15,5) ,MedianListingPrice_2Bedroom DECIMAL(15,5),MedianListingPrice_3Bedroom DECIMAL(15,5),MedianListingPrice_4Bedroom DECIMAL(15,5),MedianListingPrice_5BedroomOrMore DECIMAL(15,5),MedianListingPrice_AllHomes DECIMAL(15,5),MedianListingPrice_CondoCoop DECIMAL(15,5),MedianListingPrice_DuplexTriplex DECIMAL(15,5),MedianListingPrice_SingleFamilyResidence DECIMAL(15,5)'"
   ]
  },
  {
   "cell_type": "code",
   "execution_count": 13,
   "metadata": {},
   "outputs": [
    {
     "name": "stdout",
     "output_type": "stream",
     "text": [
      "Conecting to database:  ('housing_market',)\n",
      "Creating table....\n",
      "Table is created\n"
     ]
    }
   ],
   "source": [
    "create_table('housing_market','listing_price',variables_listing_prices,host=my_aws_endpoint,user='admin')"
   ]
  },
  {
   "cell_type": "code",
   "execution_count": 14,
   "metadata": {},
   "outputs": [
    {
     "name": "stdout",
     "output_type": "stream",
     "text": [
      "Conecting to database:  ('housing_market',)\n",
      "Loading data...\n"
     ]
    }
   ],
   "source": [
    "load_data(os.path.join(os.getcwd(),'..','_clean_data','listing_prices.csv'),'housing_market','listing_price',host=my_aws_endpoint,user='admin')"
   ]
  },
  {
   "cell_type": "code",
   "execution_count": 6,
   "metadata": {},
   "outputs": [
    {
     "name": "stdout",
     "output_type": "stream",
     "text": [
      "Conecting to database:  ('housing_market',)\n",
      "ALTER TABLE listing_price ADD CONSTRAINT foreign_IdCity_listing_price FOREIGN KEY (IdCity) REFERENCES city(IdCity);\n"
     ]
    }
   ],
   "source": [
    "add_fk('IdCity','housing_market','listing_price','city','foreign_IdCity_listing_price',host=my_aws_endpoint,user='admin')"
   ]
  },
  {
   "cell_type": "markdown",
   "metadata": {},
   "source": [
    "### Rental Price"
   ]
  },
  {
   "cell_type": "code",
   "execution_count": 7,
   "metadata": {},
   "outputs": [],
   "source": [
    "variables_rental_prices = 'IdCity VARCHAR(255) NOT NULL,Date DATE NOT NULL,MedianRentalPrice_1Bedroom DECIMAL(10,5),MedianRentalPrice_2Bedroom DECIMAL(10,5),MedianRentalPrice_3Bedroom DECIMAL(10,5),MedianRentalPrice_4Bedroom DECIMAL(10,5),MedianRentalPrice_5BedroomOrMore DECIMAL(10,5),MedianRentalPrice_AllHomes DECIMAL(10,5),MedianRentalPrice_CondoCoop DECIMAL(10,5),MedianRentalPrice_DuplexTriplex DECIMAL(10,5),MedianRentalPrice_MultiFamilyResidence5PlusUnits DECIMAL(10,5),MedianRentalPrice_SingleFamilyResidence DECIMAL(10,5),MedianRentalPrice_Studio DECIMAL(10,5)'"
   ]
  },
  {
   "cell_type": "code",
   "execution_count": 8,
   "metadata": {},
   "outputs": [
    {
     "name": "stdout",
     "output_type": "stream",
     "text": [
      "Conecting to database:  ('housing_market',)\n",
      "Creating table....\n",
      "Table is created\n"
     ]
    }
   ],
   "source": [
    "create_table('housing_market','rental_price',variables_rental_prices,host=my_aws_endpoint,user='admin')"
   ]
  },
  {
   "cell_type": "code",
   "execution_count": 9,
   "metadata": {},
   "outputs": [
    {
     "name": "stdout",
     "output_type": "stream",
     "text": [
      "Conecting to database:  ('housing_market',)\n",
      "Loading data...\n"
     ]
    }
   ],
   "source": [
    "load_data(os.path.join(os.getcwd(),'..','_clean_data','rental_prices.csv'),'housing_market','rental_price',host=my_aws_endpoint,user='admin')\n"
   ]
  },
  {
   "cell_type": "code",
   "execution_count": 4,
   "metadata": {},
   "outputs": [
    {
     "name": "stdout",
     "output_type": "stream",
     "text": [
      "Conecting to database:  ('housing_market',)\n",
      "ALTER TABLE rental_price ADD CONSTRAINT foreign_IdCity_rental_price FOREIGN KEY (IdCity) REFERENCES city(IdCity);\n"
     ]
    }
   ],
   "source": [
    "add_fk('IdCity','housing_market','rental_price','city','foreign_IdCity_rental_price',host=my_aws_endpoint,user='admin')"
   ]
  },
  {
   "cell_type": "markdown",
   "metadata": {},
   "source": [
    "### Crime Rate"
   ]
  },
  {
   "cell_type": "code",
   "execution_count": 5,
   "metadata": {},
   "outputs": [],
   "source": [
    "variables_crime_rate = 'State VARCHAR(25) NOT NULL,Year INTEGER,Population INTEGER,CrimePropertyRate DECIMAL(10,5),CrimeViolentRate DECIMAL(10,5)'"
   ]
  },
  {
   "cell_type": "code",
   "execution_count": 6,
   "metadata": {},
   "outputs": [
    {
     "name": "stdout",
     "output_type": "stream",
     "text": [
      "Conecting to database:  ('housing_market',)\n",
      "Creating table....\n",
      "Table is created\n"
     ]
    }
   ],
   "source": [
    "create_table('housing_market','crime_rate',variables_crime_rate,host=my_aws_endpoint,user='admin')"
   ]
  },
  {
   "cell_type": "code",
   "execution_count": 7,
   "metadata": {},
   "outputs": [
    {
     "name": "stdout",
     "output_type": "stream",
     "text": [
      "Conecting to database:  ('housing_market',)\n",
      "Loading data...\n"
     ]
    }
   ],
   "source": [
    "load_data(os.path.join(os.getcwd(),'..','_clean_data','crime_rate.csv'),'housing_market','crime_rate',host=my_aws_endpoint,user='admin')"
   ]
  },
  {
   "cell_type": "code",
   "execution_count": 8,
   "metadata": {},
   "outputs": [
    {
     "name": "stdout",
     "output_type": "stream",
     "text": [
      "Conecting to database:  ('housing_market',)\n",
      "ALTER TABLE crime_rate ADD CONSTRAINT foreign_state_code_crime_rate FOREIGN KEY (State) REFERENCES state_code(State);\n"
     ]
    }
   ],
   "source": [
    "add_fk('State','housing_market','crime_rate','state_code','foreign_state_code_crime_rate',host=my_aws_endpoint,user='admin')"
   ]
  },
  {
   "cell_type": "markdown",
   "metadata": {},
   "source": [
    "### Homes Sold & Total"
   ]
  },
  {
   "cell_type": "code",
   "execution_count": 9,
   "metadata": {},
   "outputs": [],
   "source": [
    "variables = 'IdCity VARCHAR(255) NOT NULL,PeriodBegin DATE,PeriodEnd DATE,HomesSold DECIMAL(12,5),HomesSold_mom DECIMAL(10,5),HomesSold_yoy DECIMAL(10,5),Inventory DECIMAL(12,5),Inventory_mom DECIMAL(10,5),Inventory_yoy DECIMAL(10,5)'"
   ]
  },
  {
   "cell_type": "code",
   "execution_count": 10,
   "metadata": {},
   "outputs": [
    {
     "name": "stdout",
     "output_type": "stream",
     "text": [
      "Conecting to database:  ('housing_market',)\n",
      "Creating table....\n",
      "Table is created\n"
     ]
    }
   ],
   "source": [
    "create_table('housing_market','sells_inventory',variables,host=my_aws_endpoint,user='admin')"
   ]
  },
  {
   "cell_type": "code",
   "execution_count": 11,
   "metadata": {},
   "outputs": [
    {
     "name": "stdout",
     "output_type": "stream",
     "text": [
      "Conecting to database:  ('housing_market',)\n",
      "Loading data...\n"
     ]
    }
   ],
   "source": [
    "load_data(os.path.join(os.getcwd(),'..','_clean_data','homes_sold_&_total_2022.csv'),'housing_market','sells_inventory',host=my_aws_endpoint,user='admin')"
   ]
  },
  {
   "cell_type": "code",
   "execution_count": 4,
   "metadata": {},
   "outputs": [
    {
     "name": "stdout",
     "output_type": "stream",
     "text": [
      "Conecting to database:  ('housing_market',)\n",
      "ALTER TABLE sells_inventory ADD CONSTRAINT foreign_IdCity_sells_inventory FOREIGN KEY (IdCity) REFERENCES city(IdCity);\n"
     ]
    }
   ],
   "source": [
    "add_fk('IdCity','housing_market','sells_inventory','city','foreign_IdCity_sells_inventory',host=my_aws_endpoint,user='admin')"
   ]
  },
  {
   "cell_type": "markdown",
   "metadata": {},
   "source": [
    "### Price Drops"
   ]
  },
  {
   "cell_type": "code",
   "execution_count": 5,
   "metadata": {},
   "outputs": [],
   "source": [
    "variables = 'IdCity VARCHAR(255) NOT NULL,PeriodBegin DATE,PeriodEnd DATE,PriceDrops DECIMAL(10,7),PriceDrops_mom DECIMAL(10,7),PriceDrops_yoy DECIMAL(10,7)'"
   ]
  },
  {
   "cell_type": "code",
   "execution_count": 6,
   "metadata": {},
   "outputs": [
    {
     "name": "stdout",
     "output_type": "stream",
     "text": [
      "Conecting to database:  ('housing_market',)\n",
      "Creating table....\n",
      "Table is created\n"
     ]
    }
   ],
   "source": [
    "create_table('housing_market','price_drops',variables,host=my_aws_endpoint,user='admin')"
   ]
  },
  {
   "cell_type": "code",
   "execution_count": 7,
   "metadata": {},
   "outputs": [
    {
     "name": "stdout",
     "output_type": "stream",
     "text": [
      "Conecting to database:  ('housing_market',)\n",
      "Loading data...\n"
     ]
    }
   ],
   "source": [
    "load_data(os.path.join(os.getcwd(),'..','_clean_data','price_drops_2022.csv'),'housing_market','price_drops',host=my_aws_endpoint,user='admin')"
   ]
  },
  {
   "cell_type": "code",
   "execution_count": 4,
   "metadata": {},
   "outputs": [
    {
     "name": "stdout",
     "output_type": "stream",
     "text": [
      "Conecting to database:  ('housing_market',)\n",
      "ALTER TABLE price_drops ADD CONSTRAINT foreign_IdCity_price_drops FOREIGN KEY (IdCity) REFERENCES city(IdCity);\n"
     ]
    }
   ],
   "source": [
    "add_fk('IdCity','housing_market','price_drops','city','foreign_IdCity_price_drops',host=my_aws_endpoint,user='admin')"
   ]
  },
  {
   "cell_type": "markdown",
   "metadata": {},
   "source": [
    "### Weather Events"
   ]
  },
  {
   "cell_type": "code",
   "execution_count": 5,
   "metadata": {},
   "outputs": [],
   "source": [
    "variables = 'IdCity VARCHAR(255) NOT NULL,Year INTEGER,Month INTEGER,Type VARCHAR(255),Precipitation_inch DECIMAL(16,10),Hours DECIMAL(10,6)'"
   ]
  },
  {
   "cell_type": "code",
   "execution_count": 6,
   "metadata": {},
   "outputs": [
    {
     "name": "stdout",
     "output_type": "stream",
     "text": [
      "Conecting to database:  ('housing_market',)\n",
      "Creating table....\n",
      "Table is created\n"
     ]
    }
   ],
   "source": [
    "create_table('housing_market','weather_event',variables,host=my_aws_endpoint,user='admin')"
   ]
  },
  {
   "cell_type": "code",
   "execution_count": 7,
   "metadata": {},
   "outputs": [
    {
     "name": "stdout",
     "output_type": "stream",
     "text": [
      "Conecting to database:  ('housing_market',)\n",
      "Loading data...\n"
     ]
    }
   ],
   "source": [
    "load_data(os.path.join(os.getcwd(),'..','_clean_data','weather_events.csv'),'housing_market','weather_event',host=my_aws_endpoint,user='admin')"
   ]
  },
  {
   "cell_type": "code",
   "execution_count": 4,
   "metadata": {},
   "outputs": [
    {
     "name": "stdout",
     "output_type": "stream",
     "text": [
      "Conecting to database:  ('housing_market',)\n",
      "ALTER TABLE weather_event ADD CONSTRAINT foreign_IdCity_weather_event FOREIGN KEY (IdCity) REFERENCES city(IdCity);\n"
     ]
    }
   ],
   "source": [
    "add_fk('IdCity','housing_market','weather_event','city','foreign_IdCity_weather_event',host=my_aws_endpoint,user='admin')"
   ]
  },
  {
   "cell_type": "markdown",
   "metadata": {},
   "source": [
    "### Population"
   ]
  },
  {
   "cell_type": "code",
   "execution_count": 4,
   "metadata": {},
   "outputs": [],
   "source": [
    "variables = 'IdCity VARCHAR(255) NOT NULL, Year INTEGER, PopEstimate INTEGER'"
   ]
  },
  {
   "cell_type": "code",
   "execution_count": 5,
   "metadata": {},
   "outputs": [
    {
     "name": "stdout",
     "output_type": "stream",
     "text": [
      "Conecting to database:  ('housing_market',)\n",
      "Creating table....\n",
      "Table is created\n"
     ]
    }
   ],
   "source": [
    "create_table('housing_market','population',variables,host=my_aws_endpoint,user='admin')"
   ]
  },
  {
   "cell_type": "code",
   "execution_count": 6,
   "metadata": {},
   "outputs": [
    {
     "name": "stdout",
     "output_type": "stream",
     "text": [
      "Conecting to database:  ('housing_market',)\n",
      "Loading data...\n"
     ]
    }
   ],
   "source": [
    "load_data(os.path.join(os.getcwd(),'..','_clean_data','population.csv'),'housing_market','population',host=my_aws_endpoint,user='admin')"
   ]
  },
  {
   "cell_type": "code",
   "execution_count": 4,
   "metadata": {},
   "outputs": [
    {
     "name": "stdout",
     "output_type": "stream",
     "text": [
      "Conecting to database:  ('housing_market',)\n",
      "ALTER TABLE population ADD CONSTRAINT foreign_IdCity_population FOREIGN KEY (IdCity) REFERENCES city(IdCity);\n"
     ]
    }
   ],
   "source": [
    "add_fk('IdCity','housing_market','population','city','foreign_IdCity_population',host=my_aws_endpoint,user='admin')"
   ]
  }
 ],
 "metadata": {
  "kernelspec": {
   "display_name": "Python 3.11.0 64-bit",
   "language": "python",
   "name": "python3"
  },
  "language_info": {
   "codemirror_mode": {
    "name": "ipython",
    "version": 3
   },
   "file_extension": ".py",
   "mimetype": "text/x-python",
   "name": "python",
   "nbconvert_exporter": "python",
   "pygments_lexer": "ipython3",
   "version": "3.11.0"
  },
  "orig_nbformat": 4,
  "vscode": {
   "interpreter": {
    "hash": "aee8b7b246df8f9039afb4144a1f6fd8d2ca17a180786b69acc140d282b71a49"
   }
  }
 },
 "nbformat": 4,
 "nbformat_minor": 2
}
