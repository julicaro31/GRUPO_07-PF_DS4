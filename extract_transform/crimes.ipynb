{
 "cells": [
  {
   "cell_type": "markdown",
   "metadata": {},
   "source": [
    "### Crime Rate"
   ]
  },
  {
   "cell_type": "code",
   "execution_count": 1,
   "metadata": {},
   "outputs": [],
   "source": [
    "import pandas as pd\n",
    "import os"
   ]
  },
  {
   "cell_type": "markdown",
   "metadata": {},
   "source": [
    "Crime rate data from United States is extracted from the following page:<br>\n",
    "https://corgis-edu.github.io/corgis/csv/state_crime/"
   ]
  },
  {
   "cell_type": "markdown",
   "metadata": {},
   "source": [
    "Rates are the number of reported offenses per 100,000 population."
   ]
  },
  {
   "cell_type": "markdown",
   "metadata": {},
   "source": [
    "- Population: The number of people living in this state at the time the report was created.\n",
    "- CrimePropertyRate: This property reflects all of the Property-related crimes, including burglaries, larcenies, and motor crimes.\n",
    "- CrimeViolentRate: This property reflects all of the Violent crimes, including assaults, murders, rapes, and robberies."
   ]
  },
  {
   "cell_type": "markdown",
   "metadata": {},
   "source": [
    "### We extract the data from our S3 bucket"
   ]
  },
  {
   "cell_type": "code",
   "execution_count": 2,
   "metadata": {},
   "outputs": [],
   "source": [
    "from private.s3_aws import access_key, secret_access_key"
   ]
  },
  {
   "cell_type": "code",
   "execution_count": 4,
   "metadata": {},
   "outputs": [],
   "source": [
    "df = pd.read_csv(f\"s3://rawdatagrupo07/state_crime.csv\",\n",
    "    storage_options={\n",
    "        \"key\": access_key,\n",
    "        \"secret\": secret_access_key\n",
    "    },\n",
    ")"
   ]
  },
  {
   "cell_type": "code",
   "execution_count": 3,
   "metadata": {},
   "outputs": [
    {
     "name": "stdout",
     "output_type": "stream",
     "text": [
      "<class 'pandas.core.frame.DataFrame'>\n",
      "RangeIndex: 3115 entries, 0 to 3114\n",
      "Data columns (total 21 columns):\n",
      " #   Column                         Non-Null Count  Dtype  \n",
      "---  ------                         --------------  -----  \n",
      " 0   State                          3115 non-null   object \n",
      " 1   Year                           3115 non-null   int64  \n",
      " 2   Data.Population                3115 non-null   int64  \n",
      " 3   Data.Rates.Property.All        3115 non-null   float64\n",
      " 4   Data.Rates.Property.Burglary   3115 non-null   float64\n",
      " 5   Data.Rates.Property.Larceny    3115 non-null   float64\n",
      " 6   Data.Rates.Property.Motor      3115 non-null   float64\n",
      " 7   Data.Rates.Violent.All         3115 non-null   float64\n",
      " 8   Data.Rates.Violent.Assault     3115 non-null   float64\n",
      " 9   Data.Rates.Violent.Murder      3115 non-null   float64\n",
      " 10  Data.Rates.Violent.Rape        3115 non-null   float64\n",
      " 11  Data.Rates.Violent.Robbery     3115 non-null   float64\n",
      " 12  Data.Totals.Property.All       3115 non-null   int64  \n",
      " 13  Data.Totals.Property.Burglary  3115 non-null   int64  \n",
      " 14  Data.Totals.Property.Larceny   3115 non-null   int64  \n",
      " 15  Data.Totals.Property.Motor     3115 non-null   int64  \n",
      " 16  Data.Totals.Violent.All        3115 non-null   int64  \n",
      " 17  Data.Totals.Violent.Assault    3115 non-null   int64  \n",
      " 18  Data.Totals.Violent.Murder     3115 non-null   int64  \n",
      " 19  Data.Totals.Violent.Rape       3115 non-null   int64  \n",
      " 20  Data.Totals.Violent.Robbery    3115 non-null   int64  \n",
      "dtypes: float64(9), int64(11), object(1)\n",
      "memory usage: 511.2+ KB\n"
     ]
    }
   ],
   "source": [
    "df.info()"
   ]
  },
  {
   "cell_type": "markdown",
   "metadata": {},
   "source": [
    "We keep the data from after 2011."
   ]
  },
  {
   "cell_type": "code",
   "execution_count": 4,
   "metadata": {},
   "outputs": [],
   "source": [
    "df = df[df[\"Year\"]>=2011]"
   ]
  },
  {
   "cell_type": "markdown",
   "metadata": {},
   "source": [
    "The states names are changed to their abbreviation."
   ]
  },
  {
   "cell_type": "code",
   "execution_count": 5,
   "metadata": {},
   "outputs": [],
   "source": [
    "us_state_to_abbrev = {\n",
    "    \"Alabama\": \"AL\",\n",
    "    \"Alaska\": \"AK\",\n",
    "    \"Arizona\": \"AZ\",\n",
    "    \"Arkansas\": \"AR\",\n",
    "    \"California\": \"CA\",\n",
    "    \"Colorado\": \"CO\",\n",
    "    \"Connecticut\": \"CT\",\n",
    "    \"Delaware\": \"DE\",\n",
    "    \"Florida\": \"FL\",\n",
    "    \"Georgia\": \"GA\",\n",
    "    \"Hawaii\": \"HI\",\n",
    "    \"Idaho\": \"ID\",\n",
    "    \"Illinois\": \"IL\",\n",
    "    \"Indiana\": \"IN\",\n",
    "    \"Iowa\": \"IA\",\n",
    "    \"Kansas\": \"KS\",\n",
    "    \"Kentucky\": \"KY\",\n",
    "    \"Louisiana\": \"LA\",\n",
    "    \"Maine\": \"ME\",\n",
    "    \"Maryland\": \"MD\",\n",
    "    \"Massachusetts\": \"MA\",\n",
    "    \"Michigan\": \"MI\",\n",
    "    \"Minnesota\": \"MN\",\n",
    "    \"Mississippi\": \"MS\",\n",
    "    \"Missouri\": \"MO\",\n",
    "    \"Montana\": \"MT\",\n",
    "    \"Nebraska\": \"NE\",\n",
    "    \"Nevada\": \"NV\",\n",
    "    \"New Hampshire\": \"NH\",\n",
    "    \"New Jersey\": \"NJ\",\n",
    "    \"New Mexico\": \"NM\",\n",
    "    \"New York\": \"NY\",\n",
    "    \"North Carolina\": \"NC\",\n",
    "    \"North Dakota\": \"ND\",\n",
    "    \"Ohio\": \"OH\",\n",
    "    \"Oklahoma\": \"OK\",\n",
    "    \"Oregon\": \"OR\",\n",
    "    \"Pennsylvania\": \"PA\",\n",
    "    \"Rhode Island\": \"RI\",\n",
    "    \"South Carolina\": \"SC\",\n",
    "    \"South Dakota\": \"SD\",\n",
    "    \"Tennessee\": \"TN\",\n",
    "    \"Texas\": \"TX\",\n",
    "    \"Utah\": \"UT\",\n",
    "    \"Vermont\": \"VT\",\n",
    "    \"Virginia\": \"VA\",\n",
    "    \"Washington\": \"WA\",\n",
    "    \"West Virginia\": \"WV\",\n",
    "    \"Wisconsin\": \"WI\",\n",
    "    \"Wyoming\": \"WY\",\n",
    "    \"District of Columbia\": \"DC\",\n",
    "    \"American Samoa\": \"AS\",\n",
    "    \"Guam\": \"GU\",\n",
    "    \"Northern Mariana Islands\": \"MP\",\n",
    "    \"Puerto Rico\": \"PR\",\n",
    "    \"United States Minor Outlying Islands\": \"UM\",\n",
    "    \"U.S. Virgin Islands\": \"VI\",\n",
    "    \"United States\": \"US\"\n",
    "}"
   ]
  },
  {
   "cell_type": "code",
   "execution_count": 6,
   "metadata": {},
   "outputs": [],
   "source": [
    "states_id = pd.DataFrame()\n",
    "states_id['StateId'] = us_state_to_abbrev.values()\n",
    "states_id['StateName'] = us_state_to_abbrev.keys()"
   ]
  },
  {
   "cell_type": "code",
   "execution_count": 8,
   "metadata": {},
   "outputs": [],
   "source": [
    "states_id.to_csv(os.path.join(os.getcwd(),'..','_clean_data','states_id.csv'),index=False)"
   ]
  },
  {
   "cell_type": "code",
   "execution_count": 9,
   "metadata": {},
   "outputs": [],
   "source": [
    "df2 = pd.DataFrame()"
   ]
  },
  {
   "cell_type": "code",
   "execution_count": 10,
   "metadata": {},
   "outputs": [],
   "source": [
    "df2['State'] = df.State.astype(str).apply(lambda x: us_state_to_abbrev[x])"
   ]
  },
  {
   "cell_type": "code",
   "execution_count": 11,
   "metadata": {},
   "outputs": [
    {
     "data": {
      "text/html": [
       "<div>\n",
       "<style scoped>\n",
       "    .dataframe tbody tr th:only-of-type {\n",
       "        vertical-align: middle;\n",
       "    }\n",
       "\n",
       "    .dataframe tbody tr th {\n",
       "        vertical-align: top;\n",
       "    }\n",
       "\n",
       "    .dataframe thead th {\n",
       "        text-align: right;\n",
       "    }\n",
       "</style>\n",
       "<table border=\"1\" class=\"dataframe\">\n",
       "  <thead>\n",
       "    <tr style=\"text-align: right;\">\n",
       "      <th></th>\n",
       "      <th>State</th>\n",
       "      <th>Year</th>\n",
       "      <th>Data.Population</th>\n",
       "      <th>Data.Rates.Property.All</th>\n",
       "      <th>Data.Rates.Property.Burglary</th>\n",
       "      <th>Data.Rates.Property.Larceny</th>\n",
       "      <th>Data.Rates.Property.Motor</th>\n",
       "      <th>Data.Rates.Violent.All</th>\n",
       "      <th>Data.Rates.Violent.Assault</th>\n",
       "      <th>Data.Rates.Violent.Murder</th>\n",
       "      <th>...</th>\n",
       "      <th>Data.Rates.Violent.Robbery</th>\n",
       "      <th>Data.Totals.Property.All</th>\n",
       "      <th>Data.Totals.Property.Burglary</th>\n",
       "      <th>Data.Totals.Property.Larceny</th>\n",
       "      <th>Data.Totals.Property.Motor</th>\n",
       "      <th>Data.Totals.Violent.All</th>\n",
       "      <th>Data.Totals.Violent.Assault</th>\n",
       "      <th>Data.Totals.Violent.Murder</th>\n",
       "      <th>Data.Totals.Violent.Rape</th>\n",
       "      <th>Data.Totals.Violent.Robbery</th>\n",
       "    </tr>\n",
       "  </thead>\n",
       "  <tbody>\n",
       "    <tr>\n",
       "      <th>51</th>\n",
       "      <td>Alabama</td>\n",
       "      <td>2011</td>\n",
       "      <td>4803689</td>\n",
       "      <td>3605.4</td>\n",
       "      <td>1064.2</td>\n",
       "      <td>2319.3</td>\n",
       "      <td>222.0</td>\n",
       "      <td>419.8</td>\n",
       "      <td>282.9</td>\n",
       "      <td>6.2</td>\n",
       "      <td>...</td>\n",
       "      <td>102.1</td>\n",
       "      <td>173192</td>\n",
       "      <td>51119</td>\n",
       "      <td>111411</td>\n",
       "      <td>10662</td>\n",
       "      <td>20166</td>\n",
       "      <td>13591</td>\n",
       "      <td>299</td>\n",
       "      <td>1370</td>\n",
       "      <td>4906</td>\n",
       "    </tr>\n",
       "    <tr>\n",
       "      <th>52</th>\n",
       "      <td>Alabama</td>\n",
       "      <td>2012</td>\n",
       "      <td>4822023</td>\n",
       "      <td>3502.2</td>\n",
       "      <td>984.7</td>\n",
       "      <td>2312.8</td>\n",
       "      <td>204.8</td>\n",
       "      <td>449.9</td>\n",
       "      <td>311.8</td>\n",
       "      <td>7.1</td>\n",
       "      <td>...</td>\n",
       "      <td>104.1</td>\n",
       "      <td>168878</td>\n",
       "      <td>47481</td>\n",
       "      <td>111523</td>\n",
       "      <td>9874</td>\n",
       "      <td>21693</td>\n",
       "      <td>15035</td>\n",
       "      <td>342</td>\n",
       "      <td>1296</td>\n",
       "      <td>5020</td>\n",
       "    </tr>\n",
       "    <tr>\n",
       "      <th>53</th>\n",
       "      <td>Alabama</td>\n",
       "      <td>2013</td>\n",
       "      <td>4833722</td>\n",
       "      <td>3351.3</td>\n",
       "      <td>877.8</td>\n",
       "      <td>2254.8</td>\n",
       "      <td>218.7</td>\n",
       "      <td>430.8</td>\n",
       "      <td>285.2</td>\n",
       "      <td>7.2</td>\n",
       "      <td>...</td>\n",
       "      <td>96.2</td>\n",
       "      <td>161993</td>\n",
       "      <td>42429</td>\n",
       "      <td>108993</td>\n",
       "      <td>10571</td>\n",
       "      <td>20826</td>\n",
       "      <td>13787</td>\n",
       "      <td>347</td>\n",
       "      <td>2044</td>\n",
       "      <td>4648</td>\n",
       "    </tr>\n",
       "    <tr>\n",
       "      <th>54</th>\n",
       "      <td>Alabama</td>\n",
       "      <td>2014</td>\n",
       "      <td>4849377</td>\n",
       "      <td>3177.6</td>\n",
       "      <td>819.0</td>\n",
       "      <td>2149.5</td>\n",
       "      <td>209.1</td>\n",
       "      <td>427.4</td>\n",
       "      <td>283.4</td>\n",
       "      <td>5.7</td>\n",
       "      <td>...</td>\n",
       "      <td>96.9</td>\n",
       "      <td>154094</td>\n",
       "      <td>39715</td>\n",
       "      <td>104238</td>\n",
       "      <td>10141</td>\n",
       "      <td>20727</td>\n",
       "      <td>13745</td>\n",
       "      <td>276</td>\n",
       "      <td>2005</td>\n",
       "      <td>4701</td>\n",
       "    </tr>\n",
       "    <tr>\n",
       "      <th>55</th>\n",
       "      <td>Alabama</td>\n",
       "      <td>2015</td>\n",
       "      <td>4858979</td>\n",
       "      <td>2978.9</td>\n",
       "      <td>725.6</td>\n",
       "      <td>2040.7</td>\n",
       "      <td>212.7</td>\n",
       "      <td>472.4</td>\n",
       "      <td>328.3</td>\n",
       "      <td>7.2</td>\n",
       "      <td>...</td>\n",
       "      <td>94.9</td>\n",
       "      <td>144746</td>\n",
       "      <td>35255</td>\n",
       "      <td>99156</td>\n",
       "      <td>10335</td>\n",
       "      <td>22952</td>\n",
       "      <td>15954</td>\n",
       "      <td>348</td>\n",
       "      <td>2039</td>\n",
       "      <td>4611</td>\n",
       "    </tr>\n",
       "  </tbody>\n",
       "</table>\n",
       "<p>5 rows × 21 columns</p>\n",
       "</div>"
      ],
      "text/plain": [
       "      State  Year  Data.Population  Data.Rates.Property.All  \\\n",
       "51  Alabama  2011          4803689                   3605.4   \n",
       "52  Alabama  2012          4822023                   3502.2   \n",
       "53  Alabama  2013          4833722                   3351.3   \n",
       "54  Alabama  2014          4849377                   3177.6   \n",
       "55  Alabama  2015          4858979                   2978.9   \n",
       "\n",
       "    Data.Rates.Property.Burglary  Data.Rates.Property.Larceny  \\\n",
       "51                        1064.2                       2319.3   \n",
       "52                         984.7                       2312.8   \n",
       "53                         877.8                       2254.8   \n",
       "54                         819.0                       2149.5   \n",
       "55                         725.6                       2040.7   \n",
       "\n",
       "    Data.Rates.Property.Motor  Data.Rates.Violent.All  \\\n",
       "51                      222.0                   419.8   \n",
       "52                      204.8                   449.9   \n",
       "53                      218.7                   430.8   \n",
       "54                      209.1                   427.4   \n",
       "55                      212.7                   472.4   \n",
       "\n",
       "    Data.Rates.Violent.Assault  Data.Rates.Violent.Murder  ...  \\\n",
       "51                       282.9                        6.2  ...   \n",
       "52                       311.8                        7.1  ...   \n",
       "53                       285.2                        7.2  ...   \n",
       "54                       283.4                        5.7  ...   \n",
       "55                       328.3                        7.2  ...   \n",
       "\n",
       "    Data.Rates.Violent.Robbery  Data.Totals.Property.All  \\\n",
       "51                       102.1                    173192   \n",
       "52                       104.1                    168878   \n",
       "53                        96.2                    161993   \n",
       "54                        96.9                    154094   \n",
       "55                        94.9                    144746   \n",
       "\n",
       "    Data.Totals.Property.Burglary  Data.Totals.Property.Larceny  \\\n",
       "51                          51119                        111411   \n",
       "52                          47481                        111523   \n",
       "53                          42429                        108993   \n",
       "54                          39715                        104238   \n",
       "55                          35255                         99156   \n",
       "\n",
       "    Data.Totals.Property.Motor  Data.Totals.Violent.All  \\\n",
       "51                       10662                    20166   \n",
       "52                        9874                    21693   \n",
       "53                       10571                    20826   \n",
       "54                       10141                    20727   \n",
       "55                       10335                    22952   \n",
       "\n",
       "    Data.Totals.Violent.Assault  Data.Totals.Violent.Murder  \\\n",
       "51                        13591                         299   \n",
       "52                        15035                         342   \n",
       "53                        13787                         347   \n",
       "54                        13745                         276   \n",
       "55                        15954                         348   \n",
       "\n",
       "    Data.Totals.Violent.Rape  Data.Totals.Violent.Robbery  \n",
       "51                      1370                         4906  \n",
       "52                      1296                         5020  \n",
       "53                      2044                         4648  \n",
       "54                      2005                         4701  \n",
       "55                      2039                         4611  \n",
       "\n",
       "[5 rows x 21 columns]"
      ]
     },
     "execution_count": 11,
     "metadata": {},
     "output_type": "execute_result"
    }
   ],
   "source": [
    "df.head()"
   ]
  },
  {
   "cell_type": "code",
   "execution_count": 12,
   "metadata": {},
   "outputs": [],
   "source": [
    "df2['Year'] = df['Year']"
   ]
  },
  {
   "cell_type": "code",
   "execution_count": 13,
   "metadata": {},
   "outputs": [],
   "source": [
    "df2['Population'] = df['Data.Population']"
   ]
  },
  {
   "cell_type": "code",
   "execution_count": 14,
   "metadata": {},
   "outputs": [],
   "source": [
    "df2['CrimePropertyRate'] = df['Data.Rates.Property.All']\n",
    "df2['CrimeViolentRate'] = df['Data.Rates.Violent.All']"
   ]
  },
  {
   "cell_type": "code",
   "execution_count": 15,
   "metadata": {},
   "outputs": [
    {
     "name": "stdout",
     "output_type": "stream",
     "text": [
      "<class 'pandas.core.frame.DataFrame'>\n",
      "Int64Index: 468 entries, 51 to 3114\n",
      "Data columns (total 5 columns):\n",
      " #   Column             Non-Null Count  Dtype  \n",
      "---  ------             --------------  -----  \n",
      " 0   State              468 non-null    object \n",
      " 1   Year               468 non-null    int64  \n",
      " 2   Population         468 non-null    int64  \n",
      " 3   CrimePropertyRate  468 non-null    float64\n",
      " 4   CrimeViolentRate   468 non-null    float64\n",
      "dtypes: float64(2), int64(2), object(1)\n",
      "memory usage: 21.9+ KB\n"
     ]
    }
   ],
   "source": [
    "df2.info()"
   ]
  }
 ],
 "metadata": {
  "kernelspec": {
   "display_name": "Python 3.11.0 64-bit",
   "language": "python",
   "name": "python3"
  },
  "language_info": {
   "codemirror_mode": {
    "name": "ipython",
    "version": 3
   },
   "file_extension": ".py",
   "mimetype": "text/x-python",
   "name": "python",
   "nbconvert_exporter": "python",
   "pygments_lexer": "ipython3",
   "version": "3.11.0"
  },
  "orig_nbformat": 4,
  "vscode": {
   "interpreter": {
    "hash": "aee8b7b246df8f9039afb4144a1f6fd8d2ca17a180786b69acc140d282b71a49"
   }
  }
 },
 "nbformat": 4,
 "nbformat_minor": 2
}
