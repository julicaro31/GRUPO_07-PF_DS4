{
 "cells": [
  {
   "cell_type": "markdown",
   "metadata": {},
   "source": [
    "### Redfin Data Center"
   ]
  },
  {
   "cell_type": "markdown",
   "metadata": {},
   "source": [
    "Information about housing market is extracted from https://www.redfin.com/news/data-center/"
   ]
  },
  {
   "cell_type": "markdown",
   "metadata": {},
   "source": [
    "### We extract the data from our S3 bucket"
   ]
  },
  {
   "cell_type": "code",
   "execution_count": 1,
   "metadata": {},
   "outputs": [],
   "source": [
    "import pandas as pd\n",
    "import os"
   ]
  },
  {
   "cell_type": "code",
   "execution_count": 2,
   "metadata": {},
   "outputs": [],
   "source": [
    "from private.s3_aws import access_key, secret_access_key"
   ]
  },
  {
   "cell_type": "code",
   "execution_count": 3,
   "metadata": {},
   "outputs": [],
   "source": [
    "data= pd.read_csv('/Users/juliacaro/Documents/SoyHenry/GRUPO_07-PF_DS4/airflow-docker/datasets/raw_data/city_market_tracker.tsv',sep='\\t')"
   ]
  },
  {
   "cell_type": "code",
   "execution_count": null,
   "metadata": {},
   "outputs": [],
   "source": [
    "data = pd.read_csv(f\"s3://rawdatagrupo07/city_market_tracker.tsv\",\n",
    "    storage_options={\n",
    "        \"key\": access_key,\n",
    "        \"secret\": secret_access_key\n",
    "    },sep='\\t'\n",
    ")"
   ]
  },
  {
   "cell_type": "markdown",
   "metadata": {},
   "source": [
    "Data and metric definitions: https://www.redfin.com/news/data-center-metrics-definitions/#:~:text=Percent%20off%20market%20in%20two,an%20the%20lastest%20listing%20price."
   ]
  },
  {
   "cell_type": "code",
   "execution_count": 4,
   "metadata": {},
   "outputs": [
    {
     "data": {
      "text/html": [
       "<div>\n",
       "<style scoped>\n",
       "    .dataframe tbody tr th:only-of-type {\n",
       "        vertical-align: middle;\n",
       "    }\n",
       "\n",
       "    .dataframe tbody tr th {\n",
       "        vertical-align: top;\n",
       "    }\n",
       "\n",
       "    .dataframe thead th {\n",
       "        text-align: right;\n",
       "    }\n",
       "</style>\n",
       "<table border=\"1\" class=\"dataframe\">\n",
       "  <thead>\n",
       "    <tr style=\"text-align: right;\">\n",
       "      <th></th>\n",
       "      <th>period_begin</th>\n",
       "      <th>period_end</th>\n",
       "      <th>period_duration</th>\n",
       "      <th>region_type</th>\n",
       "      <th>region_type_id</th>\n",
       "      <th>table_id</th>\n",
       "      <th>is_seasonally_adjusted</th>\n",
       "      <th>region</th>\n",
       "      <th>city</th>\n",
       "      <th>state</th>\n",
       "      <th>...</th>\n",
       "      <th>sold_above_list_yoy</th>\n",
       "      <th>price_drops</th>\n",
       "      <th>price_drops_mom</th>\n",
       "      <th>price_drops_yoy</th>\n",
       "      <th>off_market_in_two_weeks</th>\n",
       "      <th>off_market_in_two_weeks_mom</th>\n",
       "      <th>off_market_in_two_weeks_yoy</th>\n",
       "      <th>parent_metro_region</th>\n",
       "      <th>parent_metro_region_metro_code</th>\n",
       "      <th>last_updated</th>\n",
       "    </tr>\n",
       "  </thead>\n",
       "  <tbody>\n",
       "    <tr>\n",
       "      <th>0</th>\n",
       "      <td>2012-02-01</td>\n",
       "      <td>2012-02-29</td>\n",
       "      <td>30</td>\n",
       "      <td>place</td>\n",
       "      <td>6</td>\n",
       "      <td>12812</td>\n",
       "      <td>f</td>\n",
       "      <td>Neptune City, NJ</td>\n",
       "      <td>Neptune City</td>\n",
       "      <td>New Jersey</td>\n",
       "      <td>...</td>\n",
       "      <td>-0.147619</td>\n",
       "      <td>NaN</td>\n",
       "      <td>NaN</td>\n",
       "      <td>NaN</td>\n",
       "      <td>0.000000</td>\n",
       "      <td>0.000000</td>\n",
       "      <td>0.000000</td>\n",
       "      <td>New Brunswick, NJ</td>\n",
       "      <td>35154</td>\n",
       "      <td>2022-10-16 14:38:47</td>\n",
       "    </tr>\n",
       "    <tr>\n",
       "      <th>1</th>\n",
       "      <td>2015-11-01</td>\n",
       "      <td>2015-11-30</td>\n",
       "      <td>30</td>\n",
       "      <td>place</td>\n",
       "      <td>6</td>\n",
       "      <td>17415</td>\n",
       "      <td>f</td>\n",
       "      <td>St. Marys, GA</td>\n",
       "      <td>St. Marys</td>\n",
       "      <td>Georgia</td>\n",
       "      <td>...</td>\n",
       "      <td>0.000000</td>\n",
       "      <td>NaN</td>\n",
       "      <td>NaN</td>\n",
       "      <td>NaN</td>\n",
       "      <td>0.000000</td>\n",
       "      <td>0.000000</td>\n",
       "      <td>0.000000</td>\n",
       "      <td>St. Marys, GA</td>\n",
       "      <td>41220</td>\n",
       "      <td>2022-10-16 14:38:47</td>\n",
       "    </tr>\n",
       "    <tr>\n",
       "      <th>2</th>\n",
       "      <td>2022-09-01</td>\n",
       "      <td>2022-09-30</td>\n",
       "      <td>30</td>\n",
       "      <td>place</td>\n",
       "      <td>6</td>\n",
       "      <td>15302</td>\n",
       "      <td>f</td>\n",
       "      <td>Salem, MA</td>\n",
       "      <td>Salem</td>\n",
       "      <td>Massachusetts</td>\n",
       "      <td>...</td>\n",
       "      <td>0.066496</td>\n",
       "      <td>0.266667</td>\n",
       "      <td>-0.096970</td>\n",
       "      <td>-0.075439</td>\n",
       "      <td>0.285714</td>\n",
       "      <td>0.022556</td>\n",
       "      <td>-0.082707</td>\n",
       "      <td>Boston, MA</td>\n",
       "      <td>14454</td>\n",
       "      <td>2022-10-16 14:38:47</td>\n",
       "    </tr>\n",
       "    <tr>\n",
       "      <th>3</th>\n",
       "      <td>2019-09-01</td>\n",
       "      <td>2019-09-30</td>\n",
       "      <td>30</td>\n",
       "      <td>place</td>\n",
       "      <td>6</td>\n",
       "      <td>10370</td>\n",
       "      <td>f</td>\n",
       "      <td>Lakeside, OR</td>\n",
       "      <td>Lakeside</td>\n",
       "      <td>Oregon</td>\n",
       "      <td>...</td>\n",
       "      <td>0.000000</td>\n",
       "      <td>0.400000</td>\n",
       "      <td>0.066667</td>\n",
       "      <td>0.092308</td>\n",
       "      <td>0.000000</td>\n",
       "      <td>-0.500000</td>\n",
       "      <td>0.000000</td>\n",
       "      <td>Coos Bay, OR</td>\n",
       "      <td>18300</td>\n",
       "      <td>2022-10-16 14:38:47</td>\n",
       "    </tr>\n",
       "    <tr>\n",
       "      <th>4</th>\n",
       "      <td>2022-07-01</td>\n",
       "      <td>2022-07-31</td>\n",
       "      <td>30</td>\n",
       "      <td>place</td>\n",
       "      <td>6</td>\n",
       "      <td>20239</td>\n",
       "      <td>f</td>\n",
       "      <td>Waterville, ME</td>\n",
       "      <td>Waterville</td>\n",
       "      <td>Maine</td>\n",
       "      <td>...</td>\n",
       "      <td>-0.500000</td>\n",
       "      <td>0.444444</td>\n",
       "      <td>0.286550</td>\n",
       "      <td>0.256944</td>\n",
       "      <td>0.250000</td>\n",
       "      <td>-0.083333</td>\n",
       "      <td>-0.178571</td>\n",
       "      <td>Augusta, ME</td>\n",
       "      <td>12300</td>\n",
       "      <td>2022-10-16 14:38:47</td>\n",
       "    </tr>\n",
       "  </tbody>\n",
       "</table>\n",
       "<p>5 rows × 58 columns</p>\n",
       "</div>"
      ],
      "text/plain": [
       "  period_begin  period_end  period_duration region_type  region_type_id  \\\n",
       "0   2012-02-01  2012-02-29               30       place               6   \n",
       "1   2015-11-01  2015-11-30               30       place               6   \n",
       "2   2022-09-01  2022-09-30               30       place               6   \n",
       "3   2019-09-01  2019-09-30               30       place               6   \n",
       "4   2022-07-01  2022-07-31               30       place               6   \n",
       "\n",
       "   table_id is_seasonally_adjusted            region          city  \\\n",
       "0     12812                      f  Neptune City, NJ  Neptune City   \n",
       "1     17415                      f     St. Marys, GA     St. Marys   \n",
       "2     15302                      f         Salem, MA         Salem   \n",
       "3     10370                      f      Lakeside, OR      Lakeside   \n",
       "4     20239                      f    Waterville, ME    Waterville   \n",
       "\n",
       "           state  ... sold_above_list_yoy price_drops  price_drops_mom  \\\n",
       "0     New Jersey  ...           -0.147619         NaN              NaN   \n",
       "1        Georgia  ...            0.000000         NaN              NaN   \n",
       "2  Massachusetts  ...            0.066496    0.266667        -0.096970   \n",
       "3         Oregon  ...            0.000000    0.400000         0.066667   \n",
       "4          Maine  ...           -0.500000    0.444444         0.286550   \n",
       "\n",
       "   price_drops_yoy  off_market_in_two_weeks  off_market_in_two_weeks_mom  \\\n",
       "0              NaN                 0.000000                     0.000000   \n",
       "1              NaN                 0.000000                     0.000000   \n",
       "2        -0.075439                 0.285714                     0.022556   \n",
       "3         0.092308                 0.000000                    -0.500000   \n",
       "4         0.256944                 0.250000                    -0.083333   \n",
       "\n",
       "   off_market_in_two_weeks_yoy  parent_metro_region  \\\n",
       "0                     0.000000    New Brunswick, NJ   \n",
       "1                     0.000000        St. Marys, GA   \n",
       "2                    -0.082707           Boston, MA   \n",
       "3                     0.000000         Coos Bay, OR   \n",
       "4                    -0.178571          Augusta, ME   \n",
       "\n",
       "   parent_metro_region_metro_code         last_updated  \n",
       "0                           35154  2022-10-16 14:38:47  \n",
       "1                           41220  2022-10-16 14:38:47  \n",
       "2                           14454  2022-10-16 14:38:47  \n",
       "3                           18300  2022-10-16 14:38:47  \n",
       "4                           12300  2022-10-16 14:38:47  \n",
       "\n",
       "[5 rows x 58 columns]"
      ]
     },
     "execution_count": 4,
     "metadata": {},
     "output_type": "execute_result"
    }
   ],
   "source": [
    "data.head()"
   ]
  },
  {
   "cell_type": "code",
   "execution_count": 5,
   "metadata": {},
   "outputs": [
    {
     "name": "stdout",
     "output_type": "stream",
     "text": [
      "<class 'pandas.core.frame.DataFrame'>\n",
      "RangeIndex: 4374893 entries, 0 to 4374892\n",
      "Data columns (total 58 columns):\n",
      " #   Column                          Dtype  \n",
      "---  ------                          -----  \n",
      " 0   period_begin                    object \n",
      " 1   period_end                      object \n",
      " 2   period_duration                 int64  \n",
      " 3   region_type                     object \n",
      " 4   region_type_id                  int64  \n",
      " 5   table_id                        int64  \n",
      " 6   is_seasonally_adjusted          object \n",
      " 7   region                          object \n",
      " 8   city                            object \n",
      " 9   state                           object \n",
      " 10  state_code                      object \n",
      " 11  property_type                   object \n",
      " 12  property_type_id                int64  \n",
      " 13  median_sale_price               float64\n",
      " 14  median_sale_price_mom           float64\n",
      " 15  median_sale_price_yoy           float64\n",
      " 16  median_list_price               float64\n",
      " 17  median_list_price_mom           float64\n",
      " 18  median_list_price_yoy           float64\n",
      " 19  median_ppsf                     float64\n",
      " 20  median_ppsf_mom                 float64\n",
      " 21  median_ppsf_yoy                 float64\n",
      " 22  median_list_ppsf                float64\n",
      " 23  median_list_ppsf_mom            float64\n",
      " 24  median_list_ppsf_yoy            float64\n",
      " 25  homes_sold                      float64\n",
      " 26  homes_sold_mom                  float64\n",
      " 27  homes_sold_yoy                  float64\n",
      " 28  pending_sales                   float64\n",
      " 29  pending_sales_mom               float64\n",
      " 30  pending_sales_yoy               float64\n",
      " 31  new_listings                    float64\n",
      " 32  new_listings_mom                float64\n",
      " 33  new_listings_yoy                float64\n",
      " 34  inventory                       float64\n",
      " 35  inventory_mom                   float64\n",
      " 36  inventory_yoy                   float64\n",
      " 37  months_of_supply                float64\n",
      " 38  months_of_supply_mom            float64\n",
      " 39  months_of_supply_yoy            float64\n",
      " 40  median_dom                      float64\n",
      " 41  median_dom_mom                  float64\n",
      " 42  median_dom_yoy                  float64\n",
      " 43  avg_sale_to_list                float64\n",
      " 44  avg_sale_to_list_mom            float64\n",
      " 45  avg_sale_to_list_yoy            float64\n",
      " 46  sold_above_list                 float64\n",
      " 47  sold_above_list_mom             float64\n",
      " 48  sold_above_list_yoy             float64\n",
      " 49  price_drops                     float64\n",
      " 50  price_drops_mom                 float64\n",
      " 51  price_drops_yoy                 float64\n",
      " 52  off_market_in_two_weeks         float64\n",
      " 53  off_market_in_two_weeks_mom     float64\n",
      " 54  off_market_in_two_weeks_yoy     float64\n",
      " 55  parent_metro_region             object \n",
      " 56  parent_metro_region_metro_code  int64  \n",
      " 57  last_updated                    object \n",
      "dtypes: float64(42), int64(5), object(11)\n",
      "memory usage: 1.9+ GB\n"
     ]
    }
   ],
   "source": [
    "data.info()"
   ]
  },
  {
   "cell_type": "code",
   "execution_count": 47,
   "metadata": {},
   "outputs": [
    {
     "data": {
      "text/plain": [
       "Index(['period_begin', 'period_end', 'period_duration', 'region_type',\n",
       "       'region_type_id', 'table_id', 'is_seasonally_adjusted', 'region',\n",
       "       'city', 'state', 'state_code', 'property_type', 'property_type_id',\n",
       "       'median_sale_price', 'median_sale_price_mom', 'median_sale_price_yoy',\n",
       "       'median_list_price', 'median_list_price_mom', 'median_list_price_yoy',\n",
       "       'median_ppsf', 'median_ppsf_mom', 'median_ppsf_yoy', 'median_list_ppsf',\n",
       "       'median_list_ppsf_mom', 'median_list_ppsf_yoy', 'homes_sold',\n",
       "       'homes_sold_mom', 'homes_sold_yoy', 'pending_sales',\n",
       "       'pending_sales_mom', 'pending_sales_yoy', 'new_listings',\n",
       "       'new_listings_mom', 'new_listings_yoy', 'inventory', 'inventory_mom',\n",
       "       'inventory_yoy', 'months_of_supply', 'months_of_supply_mom',\n",
       "       'months_of_supply_yoy', 'median_dom', 'median_dom_mom',\n",
       "       'median_dom_yoy', 'avg_sale_to_list', 'avg_sale_to_list_mom',\n",
       "       'avg_sale_to_list_yoy', 'sold_above_list', 'sold_above_list_mom',\n",
       "       'sold_above_list_yoy', 'price_drops', 'price_drops_mom',\n",
       "       'price_drops_yoy', 'off_market_in_two_weeks',\n",
       "       'off_market_in_two_weeks_mom', 'off_market_in_two_weeks_yoy',\n",
       "       'parent_metro_region', 'parent_metro_region_metro_code',\n",
       "       'last_updated'],\n",
       "      dtype='object')"
      ]
     },
     "execution_count": 47,
     "metadata": {},
     "output_type": "execute_result"
    }
   ],
   "source": [
    "data.columns"
   ]
  },
  {
   "cell_type": "code",
   "execution_count": 6,
   "metadata": {},
   "outputs": [],
   "source": [
    "data.period_begin = pd.to_datetime(data.period_begin)\n",
    "data.period_end = pd.to_datetime(data.period_end)"
   ]
  },
  {
   "cell_type": "code",
   "execution_count": 7,
   "metadata": {},
   "outputs": [],
   "source": [
    "data = data.rename(columns = {'period_begin':'PeriodBegin','period_end':'PeriodEnd','city':'City','state_code':'State','homes_sold':'HomesSold','homes_sold_mom':'HomesSold_mom', 'homes_sold_yoy':'HomesSold_yoy','inventory':'Inventory','inventory_mom':'Inventory_mom','inventory_yoy':'Inventory_yoy'})"
   ]
  },
  {
   "cell_type": "markdown",
   "metadata": {},
   "source": [
    "We generate a table with the total of sales and the inventory during a given period and their differences year over year and month over month."
   ]
  },
  {
   "cell_type": "code",
   "execution_count": 9,
   "metadata": {},
   "outputs": [],
   "source": [
    "homes_sold_total = data[['PeriodBegin','PeriodEnd','City', 'State','HomesSold','HomesSold_mom', 'HomesSold_yoy','Inventory', 'Inventory_mom','Inventory_yoy']]"
   ]
  },
  {
   "cell_type": "markdown",
   "metadata": {},
   "source": [
    "The dataset ***cities.csv*** has the city ids. This data is merged with the previous data to get the corresponding ids for each city."
   ]
  },
  {
   "cell_type": "code",
   "execution_count": 10,
   "metadata": {},
   "outputs": [],
   "source": [
    "cities = pd.read_csv(f\"s3://cleandatagrupo07/cities.csv\",\n",
    "        storage_options={\n",
    "            \"key\": access_key,\n",
    "            \"secret\": secret_access_key\n",
    "        }\n",
    "    )\n"
   ]
  },
  {
   "cell_type": "code",
   "execution_count": 11,
   "metadata": {},
   "outputs": [],
   "source": [
    "homes_sold_total_id = pd.merge(homes_sold_total, cities, how = 'inner', on=['State','City'])"
   ]
  },
  {
   "cell_type": "markdown",
   "metadata": {},
   "source": [
    "#### Homes sold by month"
   ]
  },
  {
   "cell_type": "code",
   "execution_count": 25,
   "metadata": {},
   "outputs": [],
   "source": [
    "homes_sold_by_month = homes_sold_total_id.copy()"
   ]
  },
  {
   "cell_type": "code",
   "execution_count": 26,
   "metadata": {},
   "outputs": [],
   "source": [
    "homes_sold_by_month['Year'] = homes_sold_by_month.PeriodBegin.dt.year"
   ]
  },
  {
   "cell_type": "code",
   "execution_count": 27,
   "metadata": {},
   "outputs": [],
   "source": [
    "homes_sold_by_month['Month'] = homes_sold_by_month.PeriodBegin.dt.month"
   ]
  },
  {
   "cell_type": "code",
   "execution_count": 28,
   "metadata": {},
   "outputs": [],
   "source": [
    "homes_sold_by_month = homes_sold_by_month.groupby(['Unique_City_ID','Year','Month'],as_index=False).mean(numeric_only=True)"
   ]
  },
  {
   "cell_type": "code",
   "execution_count": 29,
   "metadata": {},
   "outputs": [],
   "source": [
    "homes_sold_by_month.fillna(0,inplace=True)"
   ]
  },
  {
   "cell_type": "code",
   "execution_count": 30,
   "metadata": {},
   "outputs": [],
   "source": [
    "homes_sold_by_month.rename(columns={'Unique_City_ID':'City'},inplace=True)"
   ]
  },
  {
   "cell_type": "code",
   "execution_count": 31,
   "metadata": {},
   "outputs": [
    {
     "name": "stdout",
     "output_type": "stream",
     "text": [
      "<class 'pandas.core.frame.DataFrame'>\n",
      "RangeIndex: 1221967 entries, 0 to 1221966\n",
      "Data columns (total 9 columns):\n",
      " #   Column         Non-Null Count    Dtype  \n",
      "---  ------         --------------    -----  \n",
      " 0   City           1221967 non-null  object \n",
      " 1   Year           1221967 non-null  int64  \n",
      " 2   Month          1221967 non-null  int64  \n",
      " 3   HomesSold      1221967 non-null  float64\n",
      " 4   HomesSold_mom  1221967 non-null  float64\n",
      " 5   HomesSold_yoy  1221967 non-null  float64\n",
      " 6   Inventory      1221967 non-null  float64\n",
      " 7   Inventory_mom  1221967 non-null  float64\n",
      " 8   Inventory_yoy  1221967 non-null  float64\n",
      "dtypes: float64(6), int64(2), object(1)\n",
      "memory usage: 83.9+ MB\n"
     ]
    }
   ],
   "source": [
    "homes_sold_by_month.info()"
   ]
  },
  {
   "cell_type": "code",
   "execution_count": 12,
   "metadata": {},
   "outputs": [
    {
     "name": "stdout",
     "output_type": "stream",
     "text": [
      "<class 'pandas.core.frame.DataFrame'>\n",
      "Int64Index: 3335673 entries, 0 to 3335672\n",
      "Data columns (total 12 columns):\n",
      " #   Column          Dtype         \n",
      "---  ------          -----         \n",
      " 0   PeriodBegin     datetime64[ns]\n",
      " 1   PeriodEnd       datetime64[ns]\n",
      " 2   City            object        \n",
      " 3   State           object        \n",
      " 4   HomesSold       float64       \n",
      " 5   HomesSold_mom   float64       \n",
      " 6   HomesSold_yoy   float64       \n",
      " 7   Inventory       float64       \n",
      " 8   Inventory_mom   float64       \n",
      " 9   Inventory_yoy   float64       \n",
      " 10  Unique_City_ID  object        \n",
      " 11  County          object        \n",
      "dtypes: datetime64[ns](2), float64(6), object(4)\n",
      "memory usage: 330.8+ MB\n"
     ]
    }
   ],
   "source": [
    "homes_sold_total_id.info()"
   ]
  },
  {
   "cell_type": "code",
   "execution_count": 13,
   "metadata": {},
   "outputs": [
    {
     "data": {
      "text/plain": [
       "Index(['PeriodBegin', 'PeriodEnd', 'City', 'State', 'HomesSold',\n",
       "       'HomesSold_mom', 'HomesSold_yoy', 'Inventory', 'Inventory_mom',\n",
       "       'Inventory_yoy', 'Unique_City_ID', 'County'],\n",
       "      dtype='object')"
      ]
     },
     "execution_count": 13,
     "metadata": {},
     "output_type": "execute_result"
    }
   ],
   "source": [
    "homes_sold_total_id.columns"
   ]
  },
  {
   "cell_type": "markdown",
   "metadata": {},
   "source": [
    "We filter the dataset just to keep information of 2022."
   ]
  },
  {
   "cell_type": "code",
   "execution_count": 55,
   "metadata": {},
   "outputs": [],
   "source": [
    "homes_sold_total_2022 = homes_sold_total_id[homes_sold_total_id['PeriodBegin'].dt.year==2022]"
   ]
  },
  {
   "cell_type": "code",
   "execution_count": 56,
   "metadata": {},
   "outputs": [
    {
     "name": "stdout",
     "output_type": "stream",
     "text": [
      "<class 'pandas.core.frame.DataFrame'>\n",
      "Int64Index: 264239 entries, 6 to 3335672\n",
      "Data columns (total 12 columns):\n",
      " #   Column          Non-Null Count   Dtype         \n",
      "---  ------          --------------   -----         \n",
      " 0   PeriodBegin     264239 non-null  datetime64[ns]\n",
      " 1   PeriodEnd       264239 non-null  datetime64[ns]\n",
      " 2   City            264239 non-null  object        \n",
      " 3   State           264239 non-null  object        \n",
      " 4   HomesSold       263804 non-null  float64       \n",
      " 5   HomesSold_mom   223887 non-null  float64       \n",
      " 6   HomesSold_yoy   223333 non-null  float64       \n",
      " 7   Inventory       237641 non-null  float64       \n",
      " 8   Inventory_mom   207924 non-null  float64       \n",
      " 9   Inventory_yoy   204949 non-null  float64       \n",
      " 10  Unique_City_ID  264239 non-null  object        \n",
      " 11  County          264239 non-null  object        \n",
      "dtypes: datetime64[ns](2), float64(6), object(4)\n",
      "memory usage: 26.2+ MB\n"
     ]
    }
   ],
   "source": [
    "homes_sold_total_2022.info()"
   ]
  },
  {
   "cell_type": "code",
   "execution_count": 57,
   "metadata": {},
   "outputs": [
    {
     "name": "stderr",
     "output_type": "stream",
     "text": [
      "/var/folders/wh/7jr3ry9j3cb9x1sd3ncj65w40000gn/T/ipykernel_5899/3366266304.py:1: SettingWithCopyWarning: \n",
      "A value is trying to be set on a copy of a slice from a DataFrame\n",
      "\n",
      "See the caveats in the documentation: https://pandas.pydata.org/pandas-docs/stable/user_guide/indexing.html#returning-a-view-versus-a-copy\n",
      "  homes_sold_total_2022.dropna(inplace=True)\n"
     ]
    }
   ],
   "source": [
    "homes_sold_total_2022.dropna(inplace=True)"
   ]
  },
  {
   "cell_type": "markdown",
   "metadata": {},
   "source": [
    "We generate a table with the percent of listings that dropped their price in a given time period in 2022, the listing price for the given month and the differences year over year and month over month."
   ]
  },
  {
   "cell_type": "code",
   "execution_count": 11,
   "metadata": {},
   "outputs": [],
   "source": [
    "data = data.rename(columns = {'price_drops':'PriceDrops','price_drops_mom':'PriceDrops_mom','price_drops_yoy':'PriceDrops_yoy','median_list_price':'MedianListPrice'})"
   ]
  },
  {
   "cell_type": "code",
   "execution_count": 12,
   "metadata": {},
   "outputs": [],
   "source": [
    "price_drops = data[['PeriodBegin','PeriodEnd','City', 'State','PriceDrops', 'PriceDrops_mom','PriceDrops_yoy','MedianListPrice']]\n"
   ]
  },
  {
   "cell_type": "code",
   "execution_count": 13,
   "metadata": {},
   "outputs": [],
   "source": [
    "price_drops_2022 = price_drops[price_drops.PeriodBegin.dt.year==2022]"
   ]
  },
  {
   "cell_type": "code",
   "execution_count": 14,
   "metadata": {},
   "outputs": [],
   "source": [
    "price_drops_id_2022 = pd.merge(price_drops_2022, cities, how = 'inner', on=['State','City'])"
   ]
  },
  {
   "cell_type": "code",
   "execution_count": 15,
   "metadata": {},
   "outputs": [
    {
     "name": "stdout",
     "output_type": "stream",
     "text": [
      "<class 'pandas.core.frame.DataFrame'>\n",
      "Int64Index: 264239 entries, 0 to 264238\n",
      "Data columns (total 10 columns):\n",
      " #   Column           Non-Null Count   Dtype         \n",
      "---  ------           --------------   -----         \n",
      " 0   PeriodBegin      264239 non-null  datetime64[ns]\n",
      " 1   PeriodEnd        264239 non-null  datetime64[ns]\n",
      " 2   City             264239 non-null  object        \n",
      " 3   State            264239 non-null  object        \n",
      " 4   PriceDrops       168866 non-null  float64       \n",
      " 5   PriceDrops_mom   135313 non-null  float64       \n",
      " 6   PriceDrops_yoy   122596 non-null  float64       \n",
      " 7   MedianListPrice  229924 non-null  float64       \n",
      " 8   Unique_City_ID   264239 non-null  object        \n",
      " 9   County           264239 non-null  object        \n",
      "dtypes: datetime64[ns](2), float64(4), object(4)\n",
      "memory usage: 22.2+ MB\n"
     ]
    }
   ],
   "source": [
    "price_drops_id_2022.info()"
   ]
  },
  {
   "cell_type": "code",
   "execution_count": 16,
   "metadata": {},
   "outputs": [],
   "source": [
    "price_drops_id_2022.dropna(inplace=True)"
   ]
  },
  {
   "cell_type": "code",
   "execution_count": 17,
   "metadata": {},
   "outputs": [],
   "source": [
    "price_drops_id_2022.PriceDrops = price_drops_id_2022.PriceDrops*100\n",
    "price_drops_id_2022.PriceDrops_mom = price_drops_id_2022.PriceDrops_mom*100\n",
    "price_drops_id_2022.PriceDrops_yoy = price_drops_id_2022.PriceDrops_yoy*100"
   ]
  }
 ],
 "metadata": {
  "kernelspec": {
   "display_name": "Python 3.11.0 64-bit",
   "language": "python",
   "name": "python3"
  },
  "language_info": {
   "codemirror_mode": {
    "name": "ipython",
    "version": 3
   },
   "file_extension": ".py",
   "mimetype": "text/x-python",
   "name": "python",
   "nbconvert_exporter": "python",
   "pygments_lexer": "ipython3",
   "version": "3.11.0"
  },
  "orig_nbformat": 4,
  "vscode": {
   "interpreter": {
    "hash": "aee8b7b246df8f9039afb4144a1f6fd8d2ca17a180786b69acc140d282b71a49"
   }
  }
 },
 "nbformat": 4,
 "nbformat_minor": 2
}
