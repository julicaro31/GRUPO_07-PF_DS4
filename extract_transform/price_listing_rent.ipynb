{
 "cells": [
  {
   "cell_type": "markdown",
   "metadata": {},
   "source": [
    "### LISTING AND RENT PRICES"
   ]
  },
  {
   "cell_type": "code",
   "execution_count": 78,
   "metadata": {},
   "outputs": [],
   "source": [
    "import pandas as pd\n",
    "import os"
   ]
  },
  {
   "cell_type": "markdown",
   "metadata": {},
   "source": [
    "Data about listing and rent prices in the United States is extracted from the following page:<br> https://www.zillow.com/"
   ]
  },
  {
   "cell_type": "code",
   "execution_count": 79,
   "metadata": {},
   "outputs": [],
   "source": [
    "df = pd.read_csv(os.path.join(os.getcwd(),'..','data','City_time_series.csv'))"
   ]
  },
  {
   "cell_type": "code",
   "execution_count": 80,
   "metadata": {},
   "outputs": [
    {
     "name": "stdout",
     "output_type": "stream",
     "text": [
      "<class 'pandas.core.frame.DataFrame'>\n",
      "RangeIndex: 3762566 entries, 0 to 3762565\n",
      "Data columns (total 81 columns):\n",
      " #   Column                                                         Dtype  \n",
      "---  ------                                                         -----  \n",
      " 0   Date                                                           object \n",
      " 1   RegionName                                                     object \n",
      " 2   InventorySeasonallyAdjusted_AllHomes                           float64\n",
      " 3   InventoryRaw_AllHomes                                          float64\n",
      " 4   MedianListingPricePerSqft_1Bedroom                             float64\n",
      " 5   MedianListingPricePerSqft_2Bedroom                             float64\n",
      " 6   MedianListingPricePerSqft_3Bedroom                             float64\n",
      " 7   MedianListingPricePerSqft_4Bedroom                             float64\n",
      " 8   MedianListingPricePerSqft_5BedroomOrMore                       float64\n",
      " 9   MedianListingPricePerSqft_AllHomes                             float64\n",
      " 10  MedianListingPricePerSqft_CondoCoop                            float64\n",
      " 11  MedianListingPricePerSqft_DuplexTriplex                        float64\n",
      " 12  MedianListingPricePerSqft_SingleFamilyResidence                float64\n",
      " 13  MedianListingPrice_1Bedroom                                    float64\n",
      " 14  MedianListingPrice_2Bedroom                                    float64\n",
      " 15  MedianListingPrice_3Bedroom                                    float64\n",
      " 16  MedianListingPrice_4Bedroom                                    float64\n",
      " 17  MedianListingPrice_5BedroomOrMore                              float64\n",
      " 18  MedianListingPrice_AllHomes                                    float64\n",
      " 19  MedianListingPrice_CondoCoop                                   float64\n",
      " 20  MedianListingPrice_DuplexTriplex                               float64\n",
      " 21  MedianListingPrice_SingleFamilyResidence                       float64\n",
      " 22  MedianPctOfPriceReduction_AllHomes                             float64\n",
      " 23  MedianPctOfPriceReduction_CondoCoop                            float64\n",
      " 24  MedianPctOfPriceReduction_SingleFamilyResidence                float64\n",
      " 25  MedianPriceCutDollar_AllHomes                                  float64\n",
      " 26  MedianPriceCutDollar_CondoCoop                                 float64\n",
      " 27  MedianPriceCutDollar_SingleFamilyResidence                     float64\n",
      " 28  MedianRentalPricePerSqft_1Bedroom                              float64\n",
      " 29  MedianRentalPricePerSqft_2Bedroom                              float64\n",
      " 30  MedianRentalPricePerSqft_3Bedroom                              float64\n",
      " 31  MedianRentalPricePerSqft_4Bedroom                              float64\n",
      " 32  MedianRentalPricePerSqft_5BedroomOrMore                        float64\n",
      " 33  MedianRentalPricePerSqft_AllHomes                              float64\n",
      " 34  MedianRentalPricePerSqft_CondoCoop                             float64\n",
      " 35  MedianRentalPricePerSqft_DuplexTriplex                         float64\n",
      " 36  MedianRentalPricePerSqft_MultiFamilyResidence5PlusUnits        float64\n",
      " 37  MedianRentalPricePerSqft_SingleFamilyResidence                 float64\n",
      " 38  MedianRentalPricePerSqft_Studio                                float64\n",
      " 39  MedianRentalPrice_1Bedroom                                     float64\n",
      " 40  MedianRentalPrice_2Bedroom                                     float64\n",
      " 41  MedianRentalPrice_3Bedroom                                     float64\n",
      " 42  MedianRentalPrice_4Bedroom                                     float64\n",
      " 43  MedianRentalPrice_5BedroomOrMore                               float64\n",
      " 44  MedianRentalPrice_AllHomes                                     float64\n",
      " 45  MedianRentalPrice_CondoCoop                                    float64\n",
      " 46  MedianRentalPrice_DuplexTriplex                                float64\n",
      " 47  MedianRentalPrice_MultiFamilyResidence5PlusUnits               float64\n",
      " 48  MedianRentalPrice_SingleFamilyResidence                        float64\n",
      " 49  MedianRentalPrice_Studio                                       float64\n",
      " 50  ZHVIPerSqft_AllHomes                                           float64\n",
      " 51  PctOfHomesDecreasingInValues_AllHomes                          float64\n",
      " 52  PctOfHomesIncreasingInValues_AllHomes                          float64\n",
      " 53  PctOfHomesSellingForGain_AllHomes                              float64\n",
      " 54  PctOfHomesSellingForLoss_AllHomes                              float64\n",
      " 55  PctOfListingsWithPriceReductionsSeasAdj_AllHomes               float64\n",
      " 56  PctOfListingsWithPriceReductionsSeasAdj_CondoCoop              float64\n",
      " 57  PctOfListingsWithPriceReductionsSeasAdj_SingleFamilyResidence  float64\n",
      " 58  PctOfListingsWithPriceReductions_AllHomes                      float64\n",
      " 59  PctOfListingsWithPriceReductions_CondoCoop                     float64\n",
      " 60  PctOfListingsWithPriceReductions_SingleFamilyResidence         float64\n",
      " 61  PriceToRentRatio_AllHomes                                      float64\n",
      " 62  Sale_Counts                                                    float64\n",
      " 63  Sale_Counts_Seas_Adj                                           float64\n",
      " 64  Sale_Prices                                                    float64\n",
      " 65  ZHVI_1bedroom                                                  float64\n",
      " 66  ZHVI_2bedroom                                                  float64\n",
      " 67  ZHVI_3bedroom                                                  float64\n",
      " 68  ZHVI_4bedroom                                                  float64\n",
      " 69  ZHVI_5BedroomOrMore                                            float64\n",
      " 70  ZHVI_AllHomes                                                  float64\n",
      " 71  ZHVI_BottomTier                                                float64\n",
      " 72  ZHVI_CondoCoop                                                 float64\n",
      " 73  ZHVI_MiddleTier                                                float64\n",
      " 74  ZHVI_SingleFamilyResidence                                     float64\n",
      " 75  ZHVI_TopTier                                                   float64\n",
      " 76  ZRI_AllHomes                                                   float64\n",
      " 77  ZRI_AllHomesPlusMultifamily                                    float64\n",
      " 78  ZriPerSqft_AllHomes                                            float64\n",
      " 79  Zri_MultiFamilyResidenceRental                                 float64\n",
      " 80  Zri_SingleFamilyResidenceRental                                float64\n",
      "dtypes: float64(79), object(2)\n",
      "memory usage: 2.3+ GB\n"
     ]
    }
   ],
   "source": [
    "df.info()"
   ]
  },
  {
   "cell_type": "code",
   "execution_count": 81,
   "metadata": {},
   "outputs": [],
   "source": [
    "df.Date = pd.to_datetime(df.Date)"
   ]
  },
  {
   "cell_type": "markdown",
   "metadata": {},
   "source": [
    "We just keep data from after 2011."
   ]
  },
  {
   "cell_type": "code",
   "execution_count": 82,
   "metadata": {},
   "outputs": [],
   "source": [
    "df = df[df['Date']>='2011-01-01']"
   ]
  },
  {
   "cell_type": "code",
   "execution_count": 83,
   "metadata": {},
   "outputs": [],
   "source": [
    "df.rename(columns = {'RegionName':'Unique_City_ID'}, inplace = True)"
   ]
  },
  {
   "cell_type": "markdown",
   "metadata": {},
   "source": [
    "### Rental"
   ]
  },
  {
   "cell_type": "code",
   "execution_count": 84,
   "metadata": {},
   "outputs": [],
   "source": [
    "rental_prices = df[['Unique_City_ID','Date','MedianRentalPrice_1Bedroom',\n",
    "       'MedianRentalPrice_2Bedroom', 'MedianRentalPrice_3Bedroom',\n",
    "       'MedianRentalPrice_4Bedroom', 'MedianRentalPrice_5BedroomOrMore',\n",
    "       'MedianRentalPrice_AllHomes', 'MedianRentalPrice_CondoCoop',\n",
    "       'MedianRentalPrice_DuplexTriplex','MedianRentalPrice_MultiFamilyResidence5PlusUnits',\n",
    "       'MedianRentalPrice_SingleFamilyResidence', 'MedianRentalPrice_Studio']]"
   ]
  },
  {
   "cell_type": "code",
   "execution_count": 85,
   "metadata": {},
   "outputs": [],
   "source": [
    "rental_prices = rental_prices.drop_duplicates(subset=['MedianRentalPrice_1Bedroom','MedianRentalPrice_2Bedroom', 'MedianRentalPrice_3Bedroom','MedianRentalPrice_4Bedroom', 'MedianRentalPrice_5BedroomOrMore','MedianRentalPrice_AllHomes', 'MedianRentalPrice_CondoCoop','MedianRentalPrice_DuplexTriplex','MedianRentalPrice_MultiFamilyResidence5PlusUnits','MedianRentalPrice_SingleFamilyResidence', 'MedianRentalPrice_Studio'])"
   ]
  },
  {
   "cell_type": "code",
   "execution_count": 86,
   "metadata": {},
   "outputs": [
    {
     "name": "stdout",
     "output_type": "stream",
     "text": [
      "<class 'pandas.core.frame.DataFrame'>\n",
      "Int64Index: 60939 entries, 2381417 to 3762540\n",
      "Data columns (total 13 columns):\n",
      " #   Column                                            Non-Null Count  Dtype         \n",
      "---  ------                                            --------------  -----         \n",
      " 0   Unique_City_ID                                    60939 non-null  object        \n",
      " 1   Date                                              60939 non-null  datetime64[ns]\n",
      " 2   MedianRentalPrice_1Bedroom                        16919 non-null  float64       \n",
      " 3   MedianRentalPrice_2Bedroom                        32160 non-null  float64       \n",
      " 4   MedianRentalPrice_3Bedroom                        32651 non-null  float64       \n",
      " 5   MedianRentalPrice_4Bedroom                        9949 non-null   float64       \n",
      " 6   MedianRentalPrice_5BedroomOrMore                  1108 non-null   float64       \n",
      " 7   MedianRentalPrice_AllHomes                        51397 non-null  float64       \n",
      " 8   MedianRentalPrice_CondoCoop                       14510 non-null  float64       \n",
      " 9   MedianRentalPrice_DuplexTriplex                   9207 non-null   float64       \n",
      " 10  MedianRentalPrice_MultiFamilyResidence5PlusUnits  42034 non-null  float64       \n",
      " 11  MedianRentalPrice_SingleFamilyResidence           45304 non-null  float64       \n",
      " 12  MedianRentalPrice_Studio                          14325 non-null  float64       \n",
      "dtypes: datetime64[ns](1), float64(11), object(1)\n",
      "memory usage: 6.5+ MB\n"
     ]
    }
   ],
   "source": [
    "rental_prices.info()"
   ]
  },
  {
   "cell_type": "code",
   "execution_count": 87,
   "metadata": {},
   "outputs": [
    {
     "data": {
      "text/plain": [
       "Unique_City_ID                                        zionsvilleboonein\n",
       "Date                                                2017-12-31 00:00:00\n",
       "MedianRentalPrice_1Bedroom                                       3631.5\n",
       "MedianRentalPrice_2Bedroom                                       4950.0\n",
       "MedianRentalPrice_3Bedroom                                      44000.0\n",
       "MedianRentalPrice_4Bedroom                                      15950.0\n",
       "MedianRentalPrice_5BedroomOrMore                                 5890.0\n",
       "MedianRentalPrice_AllHomes                                      49000.0\n",
       "MedianRentalPrice_CondoCoop                                      5500.0\n",
       "MedianRentalPrice_DuplexTriplex                                  4500.0\n",
       "MedianRentalPrice_MultiFamilyResidence5PlusUnits                 5300.0\n",
       "MedianRentalPrice_SingleFamilyResidence                         50000.0\n",
       "MedianRentalPrice_Studio                                         4650.0\n",
       "dtype: object"
      ]
     },
     "execution_count": 87,
     "metadata": {},
     "output_type": "execute_result"
    }
   ],
   "source": [
    "rental_prices.max()"
   ]
  },
  {
   "cell_type": "code",
   "execution_count": 88,
   "metadata": {},
   "outputs": [],
   "source": [
    "rental_prices.fillna(0,inplace=True)"
   ]
  },
  {
   "cell_type": "code",
   "execution_count": 89,
   "metadata": {},
   "outputs": [],
   "source": [
    "rental_prices.to_csv(os.path.join(os.getcwd(),'..','clean_data','rental_prices.csv'),index=False)"
   ]
  },
  {
   "cell_type": "code",
   "execution_count": 64,
   "metadata": {},
   "outputs": [],
   "source": [
    "listing_prices = df[['Unique_City_ID', 'Date','MedianListingPrice_1Bedroom', 'MedianListingPrice_2Bedroom',\n",
    "       'MedianListingPrice_3Bedroom', 'MedianListingPrice_4Bedroom',\n",
    "       'MedianListingPrice_5BedroomOrMore', 'MedianListingPrice_AllHomes',\n",
    "       'MedianListingPrice_CondoCoop', 'MedianListingPrice_DuplexTriplex',\n",
    "       'MedianListingPrice_SingleFamilyResidence']]"
   ]
  },
  {
   "cell_type": "code",
   "execution_count": 65,
   "metadata": {},
   "outputs": [],
   "source": [
    "listing_prices = listing_prices.drop_duplicates(subset=['MedianListingPrice_1Bedroom', 'MedianListingPrice_2Bedroom',\n",
    "       'MedianListingPrice_3Bedroom', 'MedianListingPrice_4Bedroom',\n",
    "       'MedianListingPrice_5BedroomOrMore', 'MedianListingPrice_AllHomes',\n",
    "       'MedianListingPrice_CondoCoop', 'MedianListingPrice_DuplexTriplex',\n",
    "       'MedianListingPrice_SingleFamilyResidence'])"
   ]
  },
  {
   "cell_type": "code",
   "execution_count": 66,
   "metadata": {},
   "outputs": [
    {
     "name": "stdout",
     "output_type": "stream",
     "text": [
      "<class 'pandas.core.frame.DataFrame'>\n",
      "Int64Index: 293701 entries, 2381417 to 3762559\n",
      "Data columns (total 11 columns):\n",
      " #   Column                                    Non-Null Count   Dtype         \n",
      "---  ------                                    --------------   -----         \n",
      " 0   Unique_City_ID                            293701 non-null  object        \n",
      " 1   Date                                      293701 non-null  datetime64[ns]\n",
      " 2   MedianListingPrice_1Bedroom               6145 non-null    float64       \n",
      " 3   MedianListingPrice_2Bedroom               53919 non-null   float64       \n",
      " 4   MedianListingPrice_3Bedroom               177642 non-null  float64       \n",
      " 5   MedianListingPrice_4Bedroom               108841 non-null  float64       \n",
      " 6   MedianListingPrice_5BedroomOrMore         27116 non-null   float64       \n",
      " 7   MedianListingPrice_AllHomes               270577 non-null  float64       \n",
      " 8   MedianListingPrice_CondoCoop              37228 non-null   float64       \n",
      " 9   MedianListingPrice_DuplexTriplex          7339 non-null    float64       \n",
      " 10  MedianListingPrice_SingleFamilyResidence  266850 non-null  float64       \n",
      "dtypes: datetime64[ns](1), float64(9), object(1)\n",
      "memory usage: 26.9+ MB\n"
     ]
    }
   ],
   "source": [
    "listing_prices.info()"
   ]
  },
  {
   "cell_type": "code",
   "execution_count": 67,
   "metadata": {},
   "outputs": [
    {
     "data": {
      "text/plain": [
       "Unique_City_ID                                zionsvilleboonein\n",
       "Date                                        2017-12-31 00:00:00\n",
       "MedianListingPrice_1Bedroom                            879000.0\n",
       "MedianListingPrice_2Bedroom                           1757500.0\n",
       "MedianListingPrice_3Bedroom                           6499999.5\n",
       "MedianListingPrice_4Bedroom                           5750000.0\n",
       "MedianListingPrice_5BedroomOrMore                    12950000.0\n",
       "MedianListingPrice_AllHomes                           6199500.0\n",
       "MedianListingPrice_CondoCoop                          4642500.0\n",
       "MedianListingPrice_DuplexTriplex                      2872500.0\n",
       "MedianListingPrice_SingleFamilyResidence              7375000.0\n",
       "dtype: object"
      ]
     },
     "execution_count": 67,
     "metadata": {},
     "output_type": "execute_result"
    }
   ],
   "source": [
    "listing_prices.max()"
   ]
  },
  {
   "cell_type": "code",
   "execution_count": 68,
   "metadata": {},
   "outputs": [],
   "source": [
    "listing_prices.fillna(0,inplace=True)"
   ]
  },
  {
   "cell_type": "code",
   "execution_count": 69,
   "metadata": {},
   "outputs": [],
   "source": [
    "listing_prices.to_csv(os.path.join(os.getcwd(),'..','clean_data','listing_prices.csv'),index=False)"
   ]
  }
 ],
 "metadata": {
  "kernelspec": {
   "display_name": "Python 3.11.0 64-bit",
   "language": "python",
   "name": "python3"
  },
  "language_info": {
   "codemirror_mode": {
    "name": "ipython",
    "version": 3
   },
   "file_extension": ".py",
   "mimetype": "text/x-python",
   "name": "python",
   "nbconvert_exporter": "python",
   "pygments_lexer": "ipython3",
   "version": "3.11.0"
  },
  "orig_nbformat": 4,
  "vscode": {
   "interpreter": {
    "hash": "aee8b7b246df8f9039afb4144a1f6fd8d2ca17a180786b69acc140d282b71a49"
   }
  }
 },
 "nbformat": 4,
 "nbformat_minor": 2
}
