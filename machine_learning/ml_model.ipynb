{
 "cells": [
  {
   "cell_type": "code",
   "execution_count": 1,
   "metadata": {},
   "outputs": [],
   "source": [
    "import os\n",
    "import numpy as np\n",
    "import pandas as pd\n",
    "import matplotlib.pyplot as plt\n",
    "import seaborn as sns"
   ]
  },
  {
   "cell_type": "code",
   "execution_count": 2,
   "metadata": {},
   "outputs": [],
   "source": [
    "import geopandas as gpd"
   ]
  },
  {
   "cell_type": "code",
   "execution_count": 3,
   "metadata": {},
   "outputs": [],
   "source": [
    "from private.s3_aws import access_key, secret_access_key"
   ]
  },
  {
   "cell_type": "code",
   "execution_count": 3,
   "metadata": {},
   "outputs": [],
   "source": [
    "weather_events = pd.read_csv(f\"s3://cleandatagrupo07/weather_events.csv\",\n",
    "    storage_options={\n",
    "        \"key\": access_key,\n",
    "        \"secret\": secret_access_key\n",
    "    },\n",
    ")"
   ]
  },
  {
   "cell_type": "code",
   "execution_count": 4,
   "metadata": {},
   "outputs": [
    {
     "data": {
      "text/html": [
       "<div>\n",
       "<style scoped>\n",
       "    .dataframe tbody tr th:only-of-type {\n",
       "        vertical-align: middle;\n",
       "    }\n",
       "\n",
       "    .dataframe tbody tr th {\n",
       "        vertical-align: top;\n",
       "    }\n",
       "\n",
       "    .dataframe thead th {\n",
       "        text-align: right;\n",
       "    }\n",
       "</style>\n",
       "<table border=\"1\" class=\"dataframe\">\n",
       "  <thead>\n",
       "    <tr style=\"text-align: right;\">\n",
       "      <th></th>\n",
       "      <th>Unique_City_ID</th>\n",
       "      <th>Year</th>\n",
       "      <th>Month</th>\n",
       "      <th>Type</th>\n",
       "      <th>Precipitation(in)</th>\n",
       "      <th>Hours</th>\n",
       "    </tr>\n",
       "  </thead>\n",
       "  <tbody>\n",
       "    <tr>\n",
       "      <th>0</th>\n",
       "      <td>fairhopebaldwinal</td>\n",
       "      <td>2016</td>\n",
       "      <td>1</td>\n",
       "      <td>Cold</td>\n",
       "      <td>0.00</td>\n",
       "      <td>2.333333</td>\n",
       "    </tr>\n",
       "    <tr>\n",
       "      <th>1</th>\n",
       "      <td>fairhopebaldwinal</td>\n",
       "      <td>2016</td>\n",
       "      <td>1</td>\n",
       "      <td>Fog</td>\n",
       "      <td>0.00</td>\n",
       "      <td>19.000000</td>\n",
       "    </tr>\n",
       "    <tr>\n",
       "      <th>2</th>\n",
       "      <td>fairhopebaldwinal</td>\n",
       "      <td>2016</td>\n",
       "      <td>1</td>\n",
       "      <td>Rain</td>\n",
       "      <td>5.13</td>\n",
       "      <td>45.666667</td>\n",
       "    </tr>\n",
       "    <tr>\n",
       "      <th>3</th>\n",
       "      <td>fairhopebaldwinal</td>\n",
       "      <td>2016</td>\n",
       "      <td>2</td>\n",
       "      <td>Fog</td>\n",
       "      <td>0.00</td>\n",
       "      <td>3.000000</td>\n",
       "    </tr>\n",
       "    <tr>\n",
       "      <th>4</th>\n",
       "      <td>fairhopebaldwinal</td>\n",
       "      <td>2016</td>\n",
       "      <td>2</td>\n",
       "      <td>Precipitation</td>\n",
       "      <td>0.36</td>\n",
       "      <td>0.333333</td>\n",
       "    </tr>\n",
       "    <tr>\n",
       "      <th>...</th>\n",
       "      <td>...</td>\n",
       "      <td>...</td>\n",
       "      <td>...</td>\n",
       "      <td>...</td>\n",
       "      <td>...</td>\n",
       "      <td>...</td>\n",
       "    </tr>\n",
       "    <tr>\n",
       "      <th>308799</th>\n",
       "      <td>winchesterfranklintn</td>\n",
       "      <td>2021</td>\n",
       "      <td>10</td>\n",
       "      <td>Precipitation</td>\n",
       "      <td>1.19</td>\n",
       "      <td>0.666667</td>\n",
       "    </tr>\n",
       "    <tr>\n",
       "      <th>308800</th>\n",
       "      <td>winchesterfranklintn</td>\n",
       "      <td>2021</td>\n",
       "      <td>11</td>\n",
       "      <td>Fog</td>\n",
       "      <td>0.00</td>\n",
       "      <td>41.000000</td>\n",
       "    </tr>\n",
       "    <tr>\n",
       "      <th>308801</th>\n",
       "      <td>winchesterfranklintn</td>\n",
       "      <td>2021</td>\n",
       "      <td>11</td>\n",
       "      <td>Precipitation</td>\n",
       "      <td>0.35</td>\n",
       "      <td>0.333333</td>\n",
       "    </tr>\n",
       "    <tr>\n",
       "      <th>308802</th>\n",
       "      <td>winchesterfranklintn</td>\n",
       "      <td>2021</td>\n",
       "      <td>12</td>\n",
       "      <td>Fog</td>\n",
       "      <td>0.00</td>\n",
       "      <td>34.666667</td>\n",
       "    </tr>\n",
       "    <tr>\n",
       "      <th>308803</th>\n",
       "      <td>winchesterfranklintn</td>\n",
       "      <td>2021</td>\n",
       "      <td>12</td>\n",
       "      <td>Precipitation</td>\n",
       "      <td>1.17</td>\n",
       "      <td>1.666667</td>\n",
       "    </tr>\n",
       "  </tbody>\n",
       "</table>\n",
       "<p>308804 rows × 6 columns</p>\n",
       "</div>"
      ],
      "text/plain": [
       "              Unique_City_ID  Year  Month           Type  Precipitation(in)  \\\n",
       "0          fairhopebaldwinal  2016      1           Cold               0.00   \n",
       "1          fairhopebaldwinal  2016      1            Fog               0.00   \n",
       "2          fairhopebaldwinal  2016      1           Rain               5.13   \n",
       "3          fairhopebaldwinal  2016      2            Fog               0.00   \n",
       "4          fairhopebaldwinal  2016      2  Precipitation               0.36   \n",
       "...                      ...   ...    ...            ...                ...   \n",
       "308799  winchesterfranklintn  2021     10  Precipitation               1.19   \n",
       "308800  winchesterfranklintn  2021     11            Fog               0.00   \n",
       "308801  winchesterfranklintn  2021     11  Precipitation               0.35   \n",
       "308802  winchesterfranklintn  2021     12            Fog               0.00   \n",
       "308803  winchesterfranklintn  2021     12  Precipitation               1.17   \n",
       "\n",
       "            Hours  \n",
       "0        2.333333  \n",
       "1       19.000000  \n",
       "2       45.666667  \n",
       "3        3.000000  \n",
       "4        0.333333  \n",
       "...           ...  \n",
       "308799   0.666667  \n",
       "308800  41.000000  \n",
       "308801   0.333333  \n",
       "308802  34.666667  \n",
       "308803   1.666667  \n",
       "\n",
       "[308804 rows x 6 columns]"
      ]
     },
     "execution_count": 4,
     "metadata": {},
     "output_type": "execute_result"
    }
   ],
   "source": [
    "weather_events"
   ]
  },
  {
   "cell_type": "markdown",
   "metadata": {},
   "source": [
    "### Weather type"
   ]
  },
  {
   "cell_type": "markdown",
   "metadata": {},
   "source": [
    "The categorical column type is not numerical so it should be encoded, otherwise the machine learning model won't work."
   ]
  },
  {
   "cell_type": "code",
   "execution_count": 5,
   "metadata": {},
   "outputs": [
    {
     "data": {
      "text/plain": [
       "array(['Cold', 'Fog', 'Rain', 'Precipitation', 'Snow', 'Storm', 'Hail'],\n",
       "      dtype=object)"
      ]
     },
     "execution_count": 5,
     "metadata": {},
     "output_type": "execute_result"
    }
   ],
   "source": [
    "weather_events.Type.unique()"
   ]
  },
  {
   "cell_type": "code",
   "execution_count": 6,
   "metadata": {},
   "outputs": [],
   "source": [
    "df_dummies = pd.get_dummies(weather_events.Type)"
   ]
  },
  {
   "cell_type": "code",
   "execution_count": 7,
   "metadata": {},
   "outputs": [],
   "source": [
    "df_dummies.drop(['Precipitation'],axis=1,inplace=True)"
   ]
  },
  {
   "cell_type": "code",
   "execution_count": 8,
   "metadata": {},
   "outputs": [
    {
     "data": {
      "image/png": "[encoded data removed]",
      "text/plain": [
       "<Figure size 640x480 with 1 Axes>"
      ]
     },
     "metadata": {},
     "output_type": "display_data"
    }
   ],
   "source": [
    "dfm = df_dummies.melt()\n",
    "ax = sns.countplot(data=dfm, x='variable', hue='value')\n",
    "ax.legend(labels=['1','0'])\n",
    "plt.tight_layout()\n",
    "plt.show()"
   ]
  },
  {
   "cell_type": "code",
   "execution_count": 9,
   "metadata": {},
   "outputs": [],
   "source": [
    "weather_events = pd.concat([weather_events,df_dummies],axis=1)"
   ]
  },
  {
   "cell_type": "code",
   "execution_count": 10,
   "metadata": {},
   "outputs": [
    {
     "data": {
      "text/html": [
       "<div>\n",
       "<style scoped>\n",
       "    .dataframe tbody tr th:only-of-type {\n",
       "        vertical-align: middle;\n",
       "    }\n",
       "\n",
       "    .dataframe tbody tr th {\n",
       "        vertical-align: top;\n",
       "    }\n",
       "\n",
       "    .dataframe thead th {\n",
       "        text-align: right;\n",
       "    }\n",
       "</style>\n",
       "<table border=\"1\" class=\"dataframe\">\n",
       "  <thead>\n",
       "    <tr style=\"text-align: right;\">\n",
       "      <th></th>\n",
       "      <th>Unique_City_ID</th>\n",
       "      <th>Year</th>\n",
       "      <th>Month</th>\n",
       "      <th>Type</th>\n",
       "      <th>Precipitation(in)</th>\n",
       "      <th>Hours</th>\n",
       "      <th>Cold</th>\n",
       "      <th>Fog</th>\n",
       "      <th>Hail</th>\n",
       "      <th>Rain</th>\n",
       "      <th>Snow</th>\n",
       "      <th>Storm</th>\n",
       "    </tr>\n",
       "  </thead>\n",
       "  <tbody>\n",
       "    <tr>\n",
       "      <th>0</th>\n",
       "      <td>fairhopebaldwinal</td>\n",
       "      <td>2016</td>\n",
       "      <td>1</td>\n",
       "      <td>Cold</td>\n",
       "      <td>0.00</td>\n",
       "      <td>2.333333</td>\n",
       "      <td>1</td>\n",
       "      <td>0</td>\n",
       "      <td>0</td>\n",
       "      <td>0</td>\n",
       "      <td>0</td>\n",
       "      <td>0</td>\n",
       "    </tr>\n",
       "    <tr>\n",
       "      <th>1</th>\n",
       "      <td>fairhopebaldwinal</td>\n",
       "      <td>2016</td>\n",
       "      <td>1</td>\n",
       "      <td>Fog</td>\n",
       "      <td>0.00</td>\n",
       "      <td>19.000000</td>\n",
       "      <td>0</td>\n",
       "      <td>1</td>\n",
       "      <td>0</td>\n",
       "      <td>0</td>\n",
       "      <td>0</td>\n",
       "      <td>0</td>\n",
       "    </tr>\n",
       "    <tr>\n",
       "      <th>2</th>\n",
       "      <td>fairhopebaldwinal</td>\n",
       "      <td>2016</td>\n",
       "      <td>1</td>\n",
       "      <td>Rain</td>\n",
       "      <td>5.13</td>\n",
       "      <td>45.666667</td>\n",
       "      <td>0</td>\n",
       "      <td>0</td>\n",
       "      <td>0</td>\n",
       "      <td>1</td>\n",
       "      <td>0</td>\n",
       "      <td>0</td>\n",
       "    </tr>\n",
       "    <tr>\n",
       "      <th>3</th>\n",
       "      <td>fairhopebaldwinal</td>\n",
       "      <td>2016</td>\n",
       "      <td>2</td>\n",
       "      <td>Fog</td>\n",
       "      <td>0.00</td>\n",
       "      <td>3.000000</td>\n",
       "      <td>0</td>\n",
       "      <td>1</td>\n",
       "      <td>0</td>\n",
       "      <td>0</td>\n",
       "      <td>0</td>\n",
       "      <td>0</td>\n",
       "    </tr>\n",
       "    <tr>\n",
       "      <th>4</th>\n",
       "      <td>fairhopebaldwinal</td>\n",
       "      <td>2016</td>\n",
       "      <td>2</td>\n",
       "      <td>Precipitation</td>\n",
       "      <td>0.36</td>\n",
       "      <td>0.333333</td>\n",
       "      <td>0</td>\n",
       "      <td>0</td>\n",
       "      <td>0</td>\n",
       "      <td>0</td>\n",
       "      <td>0</td>\n",
       "      <td>0</td>\n",
       "    </tr>\n",
       "  </tbody>\n",
       "</table>\n",
       "</div>"
      ],
      "text/plain": [
       "      Unique_City_ID  Year  Month           Type  Precipitation(in)  \\\n",
       "0  fairhopebaldwinal  2016      1           Cold               0.00   \n",
       "1  fairhopebaldwinal  2016      1            Fog               0.00   \n",
       "2  fairhopebaldwinal  2016      1           Rain               5.13   \n",
       "3  fairhopebaldwinal  2016      2            Fog               0.00   \n",
       "4  fairhopebaldwinal  2016      2  Precipitation               0.36   \n",
       "\n",
       "       Hours  Cold  Fog  Hail  Rain  Snow  Storm  \n",
       "0   2.333333     1    0     0     0     0      0  \n",
       "1  19.000000     0    1     0     0     0      0  \n",
       "2  45.666667     0    0     0     1     0      0  \n",
       "3   3.000000     0    1     0     0     0      0  \n",
       "4   0.333333     0    0     0     0     0      0  "
      ]
     },
     "execution_count": 10,
     "metadata": {},
     "output_type": "execute_result"
    }
   ],
   "source": [
    "weather_events.head()"
   ]
  },
  {
   "cell_type": "markdown",
   "metadata": {},
   "source": [
    "We change the 1s and 0s for the percent of time that the event occured in a given month"
   ]
  },
  {
   "cell_type": "markdown",
   "metadata": {},
   "source": [
    "A month has 730 hours"
   ]
  },
  {
   "cell_type": "code",
   "execution_count": 11,
   "metadata": {},
   "outputs": [],
   "source": [
    "weather_events['percentage'] = (weather_events.Hours/730)*100"
   ]
  },
  {
   "cell_type": "code",
   "execution_count": 14,
   "metadata": {},
   "outputs": [],
   "source": [
    "weather_types = ['Cold', 'Fog', 'Rain', 'Snow', 'Storm', 'Hail']"
   ]
  },
  {
   "cell_type": "code",
   "execution_count": 15,
   "metadata": {},
   "outputs": [],
   "source": [
    "for i in weather_types:\n",
    "    weather_events[f'{i}'] = weather_events[f'{i}']*weather_events.percentage"
   ]
  },
  {
   "cell_type": "code",
   "execution_count": 16,
   "metadata": {},
   "outputs": [],
   "source": [
    "weather_events.drop(['Hours','Type','percentage'],axis=1,inplace=True)"
   ]
  },
  {
   "cell_type": "code",
   "execution_count": 17,
   "metadata": {},
   "outputs": [
    {
     "data": {
      "text/html": [
       "<div>\n",
       "<style scoped>\n",
       "    .dataframe tbody tr th:only-of-type {\n",
       "        vertical-align: middle;\n",
       "    }\n",
       "\n",
       "    .dataframe tbody tr th {\n",
       "        vertical-align: top;\n",
       "    }\n",
       "\n",
       "    .dataframe thead th {\n",
       "        text-align: right;\n",
       "    }\n",
       "</style>\n",
       "<table border=\"1\" class=\"dataframe\">\n",
       "  <thead>\n",
       "    <tr style=\"text-align: right;\">\n",
       "      <th></th>\n",
       "      <th>Unique_City_ID</th>\n",
       "      <th>Year</th>\n",
       "      <th>Month</th>\n",
       "      <th>Precipitation(in)</th>\n",
       "      <th>Cold</th>\n",
       "      <th>Fog</th>\n",
       "      <th>Hail</th>\n",
       "      <th>Rain</th>\n",
       "      <th>Snow</th>\n",
       "      <th>Storm</th>\n",
       "    </tr>\n",
       "  </thead>\n",
       "  <tbody>\n",
       "    <tr>\n",
       "      <th>0</th>\n",
       "      <td>fairhopebaldwinal</td>\n",
       "      <td>2016</td>\n",
       "      <td>1</td>\n",
       "      <td>0.00</td>\n",
       "      <td>0.102166</td>\n",
       "      <td>0.000000</td>\n",
       "      <td>0.0</td>\n",
       "      <td>0.00000</td>\n",
       "      <td>0.0</td>\n",
       "      <td>0.0</td>\n",
       "    </tr>\n",
       "    <tr>\n",
       "      <th>1</th>\n",
       "      <td>fairhopebaldwinal</td>\n",
       "      <td>2016</td>\n",
       "      <td>1</td>\n",
       "      <td>0.00</td>\n",
       "      <td>0.000000</td>\n",
       "      <td>6.774254</td>\n",
       "      <td>0.0</td>\n",
       "      <td>0.00000</td>\n",
       "      <td>0.0</td>\n",
       "      <td>0.0</td>\n",
       "    </tr>\n",
       "    <tr>\n",
       "      <th>2</th>\n",
       "      <td>fairhopebaldwinal</td>\n",
       "      <td>2016</td>\n",
       "      <td>1</td>\n",
       "      <td>5.13</td>\n",
       "      <td>0.000000</td>\n",
       "      <td>0.000000</td>\n",
       "      <td>0.0</td>\n",
       "      <td>39.13388</td>\n",
       "      <td>0.0</td>\n",
       "      <td>0.0</td>\n",
       "    </tr>\n",
       "    <tr>\n",
       "      <th>3</th>\n",
       "      <td>fairhopebaldwinal</td>\n",
       "      <td>2016</td>\n",
       "      <td>2</td>\n",
       "      <td>0.00</td>\n",
       "      <td>0.000000</td>\n",
       "      <td>0.168887</td>\n",
       "      <td>0.0</td>\n",
       "      <td>0.00000</td>\n",
       "      <td>0.0</td>\n",
       "      <td>0.0</td>\n",
       "    </tr>\n",
       "    <tr>\n",
       "      <th>4</th>\n",
       "      <td>fairhopebaldwinal</td>\n",
       "      <td>2016</td>\n",
       "      <td>2</td>\n",
       "      <td>0.36</td>\n",
       "      <td>0.000000</td>\n",
       "      <td>0.000000</td>\n",
       "      <td>0.0</td>\n",
       "      <td>0.00000</td>\n",
       "      <td>0.0</td>\n",
       "      <td>0.0</td>\n",
       "    </tr>\n",
       "  </tbody>\n",
       "</table>\n",
       "</div>"
      ],
      "text/plain": [
       "      Unique_City_ID  Year  Month  Precipitation(in)      Cold       Fog  \\\n",
       "0  fairhopebaldwinal  2016      1               0.00  0.102166  0.000000   \n",
       "1  fairhopebaldwinal  2016      1               0.00  0.000000  6.774254   \n",
       "2  fairhopebaldwinal  2016      1               5.13  0.000000  0.000000   \n",
       "3  fairhopebaldwinal  2016      2               0.00  0.000000  0.168887   \n",
       "4  fairhopebaldwinal  2016      2               0.36  0.000000  0.000000   \n",
       "\n",
       "   Hail      Rain  Snow  Storm  \n",
       "0   0.0   0.00000   0.0    0.0  \n",
       "1   0.0   0.00000   0.0    0.0  \n",
       "2   0.0  39.13388   0.0    0.0  \n",
       "3   0.0   0.00000   0.0    0.0  \n",
       "4   0.0   0.00000   0.0    0.0  "
      ]
     },
     "execution_count": 17,
     "metadata": {},
     "output_type": "execute_result"
    }
   ],
   "source": [
    "weather_events.head()"
   ]
  },
  {
   "cell_type": "markdown",
   "metadata": {},
   "source": [
    "### MAP"
   ]
  },
  {
   "cell_type": "code",
   "execution_count": 10,
   "metadata": {},
   "outputs": [],
   "source": [
    "city = pd.read_csv(f\"s3://cleandatagrupo07/city_lat_lon.csv\",\n",
    "    storage_options={\n",
    "        \"key\": access_key,\n",
    "        \"secret\": secret_access_key\n",
    "    },\n",
    ")"
   ]
  },
  {
   "cell_type": "code",
   "execution_count": 11,
   "metadata": {},
   "outputs": [
    {
     "data": {
      "text/html": [
       "<div>\n",
       "<style scoped>\n",
       "    .dataframe tbody tr th:only-of-type {\n",
       "        vertical-align: middle;\n",
       "    }\n",
       "\n",
       "    .dataframe tbody tr th {\n",
       "        vertical-align: top;\n",
       "    }\n",
       "\n",
       "    .dataframe thead th {\n",
       "        text-align: right;\n",
       "    }\n",
       "</style>\n",
       "<table border=\"1\" class=\"dataframe\">\n",
       "  <thead>\n",
       "    <tr style=\"text-align: right;\">\n",
       "      <th></th>\n",
       "      <th>Unique_City_ID</th>\n",
       "      <th>City</th>\n",
       "      <th>County</th>\n",
       "      <th>State</th>\n",
       "      <th>Latitude</th>\n",
       "      <th>Longitude</th>\n",
       "    </tr>\n",
       "  </thead>\n",
       "  <tbody>\n",
       "    <tr>\n",
       "      <th>0</th>\n",
       "      <td>oak_grovechristianky</td>\n",
       "      <td>Oak Grove</td>\n",
       "      <td>Christian</td>\n",
       "      <td>KY</td>\n",
       "      <td>36.66505</td>\n",
       "      <td>-87.44279</td>\n",
       "    </tr>\n",
       "    <tr>\n",
       "      <th>1</th>\n",
       "      <td>jarvisburgcurritucknc</td>\n",
       "      <td>Jarvisburg</td>\n",
       "      <td>Currituck</td>\n",
       "      <td>NC</td>\n",
       "      <td>36.20294</td>\n",
       "      <td>-75.86658</td>\n",
       "    </tr>\n",
       "    <tr>\n",
       "      <th>2</th>\n",
       "      <td>mcminnvilleyamhillor</td>\n",
       "      <td>McMinnville</td>\n",
       "      <td>Yamhill</td>\n",
       "      <td>OR</td>\n",
       "      <td>45.21012</td>\n",
       "      <td>-123.19872</td>\n",
       "    </tr>\n",
       "    <tr>\n",
       "      <th>3</th>\n",
       "      <td>union_townshiperiepa</td>\n",
       "      <td>Union Township</td>\n",
       "      <td>Erie</td>\n",
       "      <td>PA</td>\n",
       "      <td>41.89402</td>\n",
       "      <td>-79.82283</td>\n",
       "    </tr>\n",
       "    <tr>\n",
       "      <th>4</th>\n",
       "      <td>oshkoshwinnebagowi</td>\n",
       "      <td>Oshkosh</td>\n",
       "      <td>Winnebago</td>\n",
       "      <td>WI</td>\n",
       "      <td>44.02471</td>\n",
       "      <td>-88.54261</td>\n",
       "    </tr>\n",
       "  </tbody>\n",
       "</table>\n",
       "</div>"
      ],
      "text/plain": [
       "          Unique_City_ID            City     County State  Latitude  Longitude\n",
       "0   oak_grovechristianky       Oak Grove  Christian    KY  36.66505  -87.44279\n",
       "1  jarvisburgcurritucknc      Jarvisburg  Currituck    NC  36.20294  -75.86658\n",
       "2   mcminnvilleyamhillor     McMinnville    Yamhill    OR  45.21012 -123.19872\n",
       "3   union_townshiperiepa  Union Township       Erie    PA  41.89402  -79.82283\n",
       "4     oshkoshwinnebagowi         Oshkosh  Winnebago    WI  44.02471  -88.54261"
      ]
     },
     "execution_count": 11,
     "metadata": {},
     "output_type": "execute_result"
    }
   ],
   "source": [
    "city.head()"
   ]
  },
  {
   "cell_type": "code",
   "execution_count": 12,
   "metadata": {},
   "outputs": [],
   "source": [
    "countries = gpd.read_file(gpd.datasets.get_path(\"naturalearth_lowres\"))"
   ]
  },
  {
   "cell_type": "code",
   "execution_count": 13,
   "metadata": {},
   "outputs": [
    {
     "data": {
      "image/png": "[encoded data removed]",
      "text/plain": [
       "<Figure size 800x600 with 1 Axes>"
      ]
     },
     "metadata": {},
     "output_type": "display_data"
    }
   ],
   "source": [
    "fig, ax = plt.subplots(figsize=(8,6))\n",
    "\n",
    "countries.plot(color=\"lightgrey\",ax=ax)\n",
    "\n",
    "city.plot(x=\"Longitude\", y=\"Latitude\", kind=\"scatter\",ax=ax)\n",
    "plt.xlabel('Longitude')\n",
    "plt.ylabel('Latitude')\n",
    "plt.show()"
   ]
  }
 ],
 "metadata": {
  "kernelspec": {
   "display_name": "Python 3.9.13 ('base')",
   "language": "python",
   "name": "python3"
  },
  "language_info": {
   "codemirror_mode": {
    "name": "ipython",
    "version": 3
   },
   "file_extension": ".py",
   "mimetype": "text/x-python",
   "name": "python",
   "nbconvert_exporter": "python",
   "pygments_lexer": "ipython3",
   "version": "3.9.13"
  },
  "orig_nbformat": 4,
  "vscode": {
   "interpreter": {
    "hash": "84953ea08ac53af440be809bc6733bf14f6f80521d906cf5bb0e8615f86e1ff1"
   }
  }
 },
 "nbformat": 4,
 "nbformat_minor": 2
}
